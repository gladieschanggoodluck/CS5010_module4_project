{
 "cells": [
  {
   "cell_type": "code",
   "execution_count": 26,
   "metadata": {},
   "outputs": [],
   "source": [
    "import pandas as pd\n",
    "import numpy as np\n",
    "import matplotlib.pyplot as plt\n",
    "\n",
    "%matplotlib inline\n",
    "\n",
    "from urllib.request import urlopen\n",
    "from bs4 import BeautifulSoup\n",
    "import re"
   ]
  },
  {
   "cell_type": "code",
   "execution_count": 27,
   "metadata": {},
   "outputs": [],
   "source": [
    "url=\"https://www.hubertiming.com/results/2018MLK\" #open link\n",
    "html = urlopen(url)"
   ]
  },
  {
   "cell_type": "code",
   "execution_count": 28,
   "metadata": {},
   "outputs": [],
   "source": [
    "soup = BeautifulSoup(html)"
   ]
  },
  {
   "cell_type": "code",
   "execution_count": 29,
   "metadata": {},
   "outputs": [],
   "source": [
    "data = []\n",
    "allrows= soup.find_all(\"tr\")\n",
    "for row in allrows :\n",
    "    row_list = row.find_all(\"td\")\n",
    "    dataRow= []\n",
    "    for cell in row_list:\n",
    "        dataRow.append(cell.text)\n",
    "    data.append(dataRow)\n",
    "  \n",
    "data = data[6:] "
   ]
  },
  {
   "cell_type": "code",
   "execution_count": 30,
   "metadata": {},
   "outputs": [
    {
     "name": "stdout",
     "output_type": "stream",
     "text": [
      "['Place', 'Bib', 'Name', 'Gender', 'Age', 'City', 'State', 'Chip Time', 'Chip Pace', 'Gender Place', 'Age Group', 'Age Group Place', 'Time to Start', 'Gun Time']\n"
     ]
    }
   ],
   "source": [
    "header_list = []\n",
    "col_headers = soup.find_all('th')\n",
    "for col in col_headers:\n",
    "    header_list.append(col.text)\n",
    "print(header_list)"
   ]
  },
  {
   "cell_type": "code",
   "execution_count": 31,
   "metadata": {},
   "outputs": [],
   "source": [
    "df = pd.DataFrame(data)"
   ]
  },
  {
   "cell_type": "code",
   "execution_count": 32,
   "metadata": {},
   "outputs": [
    {
     "name": "stdout",
     "output_type": "stream",
     "text": [
      "  Place   Bib                     Name Gender Age      City State Chip Time  \\\n",
      "0     2  1080  NEED NAME KAISER RUNNER      M  25  PORTLAND    OR     17:31   \n",
      "1     3  1275               DAN FRANEK      M  52  PORTLAND    OR     18:15   \n",
      "2     4  1223              PAUL TAYLOR      M  54  PORTLAND    OR     18:31   \n",
      "3     5  1245              THEO KINMAN      M  22                     19:31   \n",
      "4     6  1185           MELISSA GIRGIS      F  27  PORTLAND    OR     19:39   \n",
      "\n",
      "  Chip Pace Gender Place Age Group Age Group Place Time to Start Gun Time  \n",
      "0      5:39      2 of 78   M 21-39         2 of 33          0:09    17:40  \n",
      "1      5:53      3 of 78   M 40-54         1 of 27          0:07    18:22  \n",
      "2      5:58      4 of 78   M 40-54         2 of 27          0:07    18:38  \n",
      "3      6:17      5 of 78   M 21-39         3 of 33          0:09    19:40  \n",
      "4      6:20     1 of 113   F 21-39         1 of 53          0:07    19:46  \n"
     ]
    }
   ],
   "source": [
    "df.columns = header_list\n",
    "print(df.head())"
   ]
  },
  {
   "cell_type": "code",
   "execution_count": 33,
   "metadata": {},
   "outputs": [
    {
     "data": {
      "text/plain": [
       "(190, 14)"
      ]
     },
     "execution_count": 33,
     "metadata": {},
     "output_type": "execute_result"
    }
   ],
   "source": [
    "df.shape"
   ]
  },
  {
   "cell_type": "code",
   "execution_count": 34,
   "metadata": {},
   "outputs": [
    {
     "data": {
      "text/plain": [
       "(190, 14)"
      ]
     },
     "execution_count": 34,
     "metadata": {},
     "output_type": "execute_result"
    }
   ],
   "source": [
    "df2 = df.dropna(how='any')\n",
    "df.shape"
   ]
  },
  {
   "cell_type": "code",
   "execution_count": 35,
   "metadata": {},
   "outputs": [],
   "source": [
    "df2['Year'] = 2018"
   ]
  },
  {
   "cell_type": "code",
   "execution_count": 36,
   "metadata": {},
   "outputs": [],
   "source": [
    "df2['Chip Time'] = df2['Chip Time'].apply(lambda x : x.rjust(5, '0').rjust(6, ':').rjust(8, '0'))\n",
    "df2['ChipTime_minutes'] = df['Chip Time'].str.split(':').apply(lambda x: int(x[0]) * 60 + int(x[1]))"
   ]
  },
  {
   "cell_type": "code",
   "execution_count": 37,
   "metadata": {},
   "outputs": [],
   "source": [
    "time_list = df2['Chip Time'].tolist()\n",
    "\n",
    "# You can use a for loop to convert 'Chip Time' to minutes\n",
    "\n",
    "time_mins = []\n",
    "for i in time_list:\n",
    "    h, m, s = i.split(':')\n",
    "    math = (int(h) * 3600 + int(m) * 60 + int(s))/60\n",
    "    time_mins.append(math)\n",
    "#print(time_mins)"
   ]
  },
  {
   "cell_type": "code",
   "execution_count": 38,
   "metadata": {},
   "outputs": [
    {
     "data": {
      "text/html": [
       "<div>\n",
       "<style scoped>\n",
       "    .dataframe tbody tr th:only-of-type {\n",
       "        vertical-align: middle;\n",
       "    }\n",
       "\n",
       "    .dataframe tbody tr th {\n",
       "        vertical-align: top;\n",
       "    }\n",
       "\n",
       "    .dataframe thead th {\n",
       "        text-align: right;\n",
       "    }\n",
       "</style>\n",
       "<table border=\"1\" class=\"dataframe\">\n",
       "  <thead>\n",
       "    <tr style=\"text-align: right;\">\n",
       "      <th></th>\n",
       "      <th>Place</th>\n",
       "      <th>Bib</th>\n",
       "      <th>Name</th>\n",
       "      <th>Gender</th>\n",
       "      <th>Age</th>\n",
       "      <th>City</th>\n",
       "      <th>State</th>\n",
       "      <th>Chip Time</th>\n",
       "      <th>Chip Pace</th>\n",
       "      <th>Gender Place</th>\n",
       "      <th>Age Group</th>\n",
       "      <th>Age Group Place</th>\n",
       "      <th>Time to Start</th>\n",
       "      <th>Gun Time</th>\n",
       "      <th>Year</th>\n",
       "      <th>ChipTime_minutes</th>\n",
       "      <th>Runner_mins</th>\n",
       "    </tr>\n",
       "  </thead>\n",
       "  <tbody>\n",
       "    <tr>\n",
       "      <td>0</td>\n",
       "      <td>2</td>\n",
       "      <td>1080</td>\n",
       "      <td>NEED NAME KAISER RUNNER</td>\n",
       "      <td>M</td>\n",
       "      <td>25</td>\n",
       "      <td>PORTLAND</td>\n",
       "      <td>OR</td>\n",
       "      <td>00:17:31</td>\n",
       "      <td>5:39</td>\n",
       "      <td>2 of 78</td>\n",
       "      <td>M 21-39</td>\n",
       "      <td>2 of 33</td>\n",
       "      <td>0:09</td>\n",
       "      <td>17:40</td>\n",
       "      <td>2018</td>\n",
       "      <td>1051</td>\n",
       "      <td>17.516667</td>\n",
       "    </tr>\n",
       "    <tr>\n",
       "      <td>1</td>\n",
       "      <td>3</td>\n",
       "      <td>1275</td>\n",
       "      <td>DAN FRANEK</td>\n",
       "      <td>M</td>\n",
       "      <td>52</td>\n",
       "      <td>PORTLAND</td>\n",
       "      <td>OR</td>\n",
       "      <td>00:18:15</td>\n",
       "      <td>5:53</td>\n",
       "      <td>3 of 78</td>\n",
       "      <td>M 40-54</td>\n",
       "      <td>1 of 27</td>\n",
       "      <td>0:07</td>\n",
       "      <td>18:22</td>\n",
       "      <td>2018</td>\n",
       "      <td>1095</td>\n",
       "      <td>18.250000</td>\n",
       "    </tr>\n",
       "    <tr>\n",
       "      <td>2</td>\n",
       "      <td>4</td>\n",
       "      <td>1223</td>\n",
       "      <td>PAUL TAYLOR</td>\n",
       "      <td>M</td>\n",
       "      <td>54</td>\n",
       "      <td>PORTLAND</td>\n",
       "      <td>OR</td>\n",
       "      <td>00:18:31</td>\n",
       "      <td>5:58</td>\n",
       "      <td>4 of 78</td>\n",
       "      <td>M 40-54</td>\n",
       "      <td>2 of 27</td>\n",
       "      <td>0:07</td>\n",
       "      <td>18:38</td>\n",
       "      <td>2018</td>\n",
       "      <td>1111</td>\n",
       "      <td>18.516667</td>\n",
       "    </tr>\n",
       "    <tr>\n",
       "      <td>3</td>\n",
       "      <td>5</td>\n",
       "      <td>1245</td>\n",
       "      <td>THEO KINMAN</td>\n",
       "      <td>M</td>\n",
       "      <td>22</td>\n",
       "      <td></td>\n",
       "      <td></td>\n",
       "      <td>00:19:31</td>\n",
       "      <td>6:17</td>\n",
       "      <td>5 of 78</td>\n",
       "      <td>M 21-39</td>\n",
       "      <td>3 of 33</td>\n",
       "      <td>0:09</td>\n",
       "      <td>19:40</td>\n",
       "      <td>2018</td>\n",
       "      <td>1171</td>\n",
       "      <td>19.516667</td>\n",
       "    </tr>\n",
       "    <tr>\n",
       "      <td>4</td>\n",
       "      <td>6</td>\n",
       "      <td>1185</td>\n",
       "      <td>MELISSA GIRGIS</td>\n",
       "      <td>F</td>\n",
       "      <td>27</td>\n",
       "      <td>PORTLAND</td>\n",
       "      <td>OR</td>\n",
       "      <td>00:19:39</td>\n",
       "      <td>6:20</td>\n",
       "      <td>1 of 113</td>\n",
       "      <td>F 21-39</td>\n",
       "      <td>1 of 53</td>\n",
       "      <td>0:07</td>\n",
       "      <td>19:46</td>\n",
       "      <td>2018</td>\n",
       "      <td>1179</td>\n",
       "      <td>19.650000</td>\n",
       "    </tr>\n",
       "  </tbody>\n",
       "</table>\n",
       "</div>"
      ],
      "text/plain": [
       "  Place   Bib                     Name Gender Age      City State Chip Time  \\\n",
       "0     2  1080  NEED NAME KAISER RUNNER      M  25  PORTLAND    OR  00:17:31   \n",
       "1     3  1275               DAN FRANEK      M  52  PORTLAND    OR  00:18:15   \n",
       "2     4  1223              PAUL TAYLOR      M  54  PORTLAND    OR  00:18:31   \n",
       "3     5  1245              THEO KINMAN      M  22                  00:19:31   \n",
       "4     6  1185           MELISSA GIRGIS      F  27  PORTLAND    OR  00:19:39   \n",
       "\n",
       "  Chip Pace Gender Place Age Group Age Group Place Time to Start Gun Time  \\\n",
       "0      5:39      2 of 78   M 21-39         2 of 33          0:09    17:40   \n",
       "1      5:53      3 of 78   M 40-54         1 of 27          0:07    18:22   \n",
       "2      5:58      4 of 78   M 40-54         2 of 27          0:07    18:38   \n",
       "3      6:17      5 of 78   M 21-39         3 of 33          0:09    19:40   \n",
       "4      6:20     1 of 113   F 21-39         1 of 53          0:07    19:46   \n",
       "\n",
       "   Year  ChipTime_minutes  Runner_mins  \n",
       "0  2018              1051    17.516667  \n",
       "1  2018              1095    18.250000  \n",
       "2  2018              1111    18.516667  \n",
       "3  2018              1171    19.516667  \n",
       "4  2018              1179    19.650000  "
      ]
     },
     "execution_count": 38,
     "metadata": {},
     "output_type": "execute_result"
    }
   ],
   "source": [
    "df2['Runner_mins'] = time_mins\n",
    "df2.head(5)"
   ]
  },
  {
   "cell_type": "code",
   "execution_count": 39,
   "metadata": {},
   "outputs": [
    {
     "data": {
      "text/plain": [
       "Text(0.5, 1.0, 'Comparsion of average minutes run by male and female')"
      ]
     },
     "execution_count": 39,
     "metadata": {},
     "output_type": "execute_result"
    },
    {
     "data": {
      "image/png": "[encoded data removed]",
      "text/plain": [
       "<Figure size 432x288 with 1 Axes>"
      ]
     },
     "metadata": {
      "needs_background": "light"
     },
     "output_type": "display_data"
    }
   ],
   "source": [
    "plt.scatter(df2['Gender'], df2['Runner_mins'])\n",
    "plt.xlabel('Gender')\n",
    "plt.ylabel('Runner_mins')\n",
    "plt.title(\"Comparsion of average minutes run by male and female\") "
   ]
  },
  {
   "cell_type": "code",
   "execution_count": 40,
   "metadata": {},
   "outputs": [
    {
     "data": {
      "text/html": [
       "<div>\n",
       "<style scoped>\n",
       "    .dataframe tbody tr th:only-of-type {\n",
       "        vertical-align: middle;\n",
       "    }\n",
       "\n",
       "    .dataframe tbody tr th {\n",
       "        vertical-align: top;\n",
       "    }\n",
       "\n",
       "    .dataframe thead th {\n",
       "        text-align: right;\n",
       "    }\n",
       "</style>\n",
       "<table border=\"1\" class=\"dataframe\">\n",
       "  <thead>\n",
       "    <tr style=\"text-align: right;\">\n",
       "      <th></th>\n",
       "      <th>Year</th>\n",
       "      <th>ChipTime_minutes</th>\n",
       "      <th>Runner_mins</th>\n",
       "    </tr>\n",
       "  </thead>\n",
       "  <tbody>\n",
       "    <tr>\n",
       "      <td>count</td>\n",
       "      <td>190.0</td>\n",
       "      <td>190.000000</td>\n",
       "      <td>190.000000</td>\n",
       "    </tr>\n",
       "    <tr>\n",
       "      <td>mean</td>\n",
       "      <td>2018.0</td>\n",
       "      <td>1778.689474</td>\n",
       "      <td>42.613333</td>\n",
       "    </tr>\n",
       "    <tr>\n",
       "      <td>std</td>\n",
       "      <td>0.0</td>\n",
       "      <td>1032.170638</td>\n",
       "      <td>14.824586</td>\n",
       "    </tr>\n",
       "    <tr>\n",
       "      <td>min</td>\n",
       "      <td>2018.0</td>\n",
       "      <td>60.000000</td>\n",
       "      <td>17.516667</td>\n",
       "    </tr>\n",
       "    <tr>\n",
       "      <td>25%</td>\n",
       "      <td>2018.0</td>\n",
       "      <td>1505.000000</td>\n",
       "      <td>29.154167</td>\n",
       "    </tr>\n",
       "    <tr>\n",
       "      <td>50%</td>\n",
       "      <td>2018.0</td>\n",
       "      <td>1816.000000</td>\n",
       "      <td>39.708333</td>\n",
       "    </tr>\n",
       "    <tr>\n",
       "      <td>75%</td>\n",
       "      <td>2018.0</td>\n",
       "      <td>2510.000000</td>\n",
       "      <td>54.550000</td>\n",
       "    </tr>\n",
       "    <tr>\n",
       "      <td>max</td>\n",
       "      <td>2018.0</td>\n",
       "      <td>3598.000000</td>\n",
       "      <td>103.450000</td>\n",
       "    </tr>\n",
       "  </tbody>\n",
       "</table>\n",
       "</div>"
      ],
      "text/plain": [
       "         Year  ChipTime_minutes  Runner_mins\n",
       "count   190.0        190.000000   190.000000\n",
       "mean   2018.0       1778.689474    42.613333\n",
       "std       0.0       1032.170638    14.824586\n",
       "min    2018.0         60.000000    17.516667\n",
       "25%    2018.0       1505.000000    29.154167\n",
       "50%    2018.0       1816.000000    39.708333\n",
       "75%    2018.0       2510.000000    54.550000\n",
       "max    2018.0       3598.000000   103.450000"
      ]
     },
     "execution_count": 40,
     "metadata": {},
     "output_type": "execute_result"
    }
   ],
   "source": [
    "df2.describe(include=[np.number])"
   ]
  },
  {
   "cell_type": "code",
   "execution_count": 41,
   "metadata": {},
   "outputs": [
    {
     "data": {
      "text/plain": [
       "Text(0, 0.5, 'Run time')"
      ]
     },
     "execution_count": 41,
     "metadata": {},
     "output_type": "execute_result"
    },
    {
     "data": {
      "image/png": "[encoded data removed]",
      "text/plain": [
       "<Figure size 432x288 with 1 Axes>"
      ]
     },
     "metadata": {
      "needs_background": "light"
     },
     "output_type": "display_data"
    }
   ],
   "source": [
    "df2.boxplot(column='Runner_mins', by = 'Gender')\n",
    "plt.ylabel('Run time')"
   ]
  },
  {
   "cell_type": "code",
   "execution_count": 42,
   "metadata": {},
   "outputs": [
    {
     "data": {
      "image/png": "[encoded data removed]",
      "text/plain": [
       "<Figure size 432x288 with 1 Axes>"
      ]
     },
     "metadata": {
      "needs_background": "light"
     },
     "output_type": "display_data"
    },
    {
     "data": {
      "text/plain": [
       "<matplotlib.legend.Legend at 0x23e49225390>"
      ]
     },
     "execution_count": 42,
     "metadata": {},
     "output_type": "execute_result"
    },
    {
     "data": {
      "image/png": "[encoded data removed]",
      "text/plain": [
       "<Figure size 360x360 with 1 Axes>"
      ]
     },
     "metadata": {
      "needs_background": "light"
     },
     "output_type": "display_data"
    }
   ],
   "source": [
    "import seaborn as sns, numpy as np\n",
    "df2['Age_i'] = round(pd.to_numeric(df2['Age'], errors='coerce'))\n",
    "df2.dropna(how ='any', inplace = True)\n",
    "df = plt.scatter(df2['Runner_mins'], df2['Age_i'])\n",
    "df = plt.ylabel('Run time')\n",
    "df= plt.xlabel('Age')\n",
    "df = plt.show()\n",
    "\n",
    "sns.lmplot( x='Age_i', y='Runner_mins', data=df2, fit_reg=True, hue='Gender', legend=False)\n",
    "plt.legend(loc='lower right')\n"
   ]
  },
  {
   "cell_type": "code",
   "execution_count": 43,
   "metadata": {},
   "outputs": [
    {
     "data": {
      "image/png": "[encoded data removed]",
      "text/plain": [
       "<Figure size 432x288 with 1 Axes>"
      ]
     },
     "metadata": {
      "needs_background": "light"
     },
     "output_type": "display_data"
    }
   ],
   "source": [
    "import seaborn as sns, numpy as np\n",
    "x = df2['Runner_mins']\n",
    "ax = sns.distplot(x, hist=True, kde=True, rug=False, color='m', bins=25, hist_kws={'edgecolor':'black'})\n",
    "plt.show()"
   ]
  },
  {
   "cell_type": "code",
   "execution_count": 44,
   "metadata": {},
   "outputs": [
    {
     "data": {
      "text/plain": [
       "<matplotlib.legend.Legend at 0x23e38693898>"
      ]
     },
     "execution_count": 44,
     "metadata": {},
     "output_type": "execute_result"
    },
    {
     "data": {
      "image/png": "[encoded data removed]",
      "text/plain": [
       "<Figure size 432x288 with 1 Axes>"
      ]
     },
     "metadata": {
      "needs_background": "light"
     },
     "output_type": "display_data"
    }
   ],
   "source": [
    "f_fuko = df2.loc[df2['Gender']=='F']['Runner_mins']\n",
    "m_fuko = df2.loc[df2['Gender']=='M']['Runner_mins']\n",
    "sns.distplot(f_fuko, hist=True, kde=True, rug=False, hist_kws={'edgecolor':'black'}, label='Female')\n",
    "sns.distplot(m_fuko, hist=True, kde=True, rug=False, hist_kws={'edgecolor':'black'}, label='Male')\n",
    "plt.legend()"
   ]
  },
  {
   "cell_type": "code",
   "execution_count": 45,
   "metadata": {},
   "outputs": [],
   "source": [
    "from pylab import rcParams\n",
    "rcParams['figure.figsize'] = 15, 5"
   ]
  },
  {
   "cell_type": "code",
   "execution_count": 46,
   "metadata": {},
   "outputs": [
    {
     "name": "stdout",
     "output_type": "stream",
     "text": [
      "         Year                                                       \\\n",
      "        count    mean  std     min     25%     50%     75%     max   \n",
      "Gender                                                               \n",
      "F       110.0  2018.0  0.0  2018.0  2018.0  2018.0  2018.0  2018.0   \n",
      "M        71.0  2018.0  0.0  2018.0  2018.0  2018.0  2018.0  2018.0   \n",
      "\n",
      "       ChipTime_minutes               ... Runner_mins              Age_i  \\\n",
      "                  count         mean  ...         75%         max  count   \n",
      "Gender                                ...                                  \n",
      "F                 110.0  1851.045455  ...   59.816667  103.450000  110.0   \n",
      "M                  71.0  1641.056338  ...   46.591667   69.183333   71.0   \n",
      "\n",
      "                                                           \n",
      "             mean        std  min   25%   50%   75%   max  \n",
      "Gender                                                     \n",
      "F       39.745455  13.478108  9.0  30.0  39.0  48.0  73.0  \n",
      "M       37.352113  12.814165  9.0  27.5  38.0  44.0  68.0  \n",
      "\n",
      "[2 rows x 32 columns]\n"
     ]
    }
   ],
   "source": [
    "g_stats = df2.groupby(\"Gender\", as_index=True).describe()\n",
    "print(g_stats)"
   ]
  },
  {
   "cell_type": "code",
   "execution_count": 47,
   "metadata": {},
   "outputs": [
    {
     "data": {
      "text/plain": [
       "Text(0, 0.5, 'Run time')"
      ]
     },
     "execution_count": 47,
     "metadata": {},
     "output_type": "execute_result"
    },
    {
     "data": {
      "image/png": "[encoded data removed]",
      "text/plain": [
       "<Figure size 1080x360 with 1 Axes>"
      ]
     },
     "metadata": {
      "needs_background": "light"
     },
     "output_type": "display_data"
    }
   ],
   "source": [
    "df2.boxplot(column='Runner_mins', by = 'State')\n",
    "plt.ylabel('Run time')"
   ]
  },
  {
   "cell_type": "code",
   "execution_count": 48,
   "metadata": {},
   "outputs": [
    {
     "data": {
      "text/plain": [
       "Text(0, 0.5, 'Run time')"
      ]
     },
     "execution_count": 48,
     "metadata": {},
     "output_type": "execute_result"
    },
    {
     "data": {
      "image/png": "[encoded data removed]",
      "text/plain": [
       "<Figure size 1080x360 with 1 Axes>"
      ]
     },
     "metadata": {
      "needs_background": "light"
     },
     "output_type": "display_data"
    }
   ],
   "source": [
    "df2.boxplot(column='Runner_mins', by = 'Year')\n",
    "plt.ylabel('Run time')"
   ]
  },
  {
   "cell_type": "code",
   "execution_count": 49,
   "metadata": {},
   "outputs": [],
   "source": [
    "df2.to_csv('final2018.csv')"
   ]
  },
  {
   "cell_type": "code",
   "execution_count": null,
   "metadata": {},
   "outputs": [],
   "source": []
  },
  {
   "cell_type": "code",
   "execution_count": null,
   "metadata": {},
   "outputs": [],
   "source": []
  },
  {
   "cell_type": "code",
   "execution_count": null,
   "metadata": {},
   "outputs": [],
   "source": []
  }
 ],
 "metadata": {
  "kernelspec": {
   "display_name": "Python 3",
   "language": "python",
   "name": "python3"
  },
  "language_info": {
   "codemirror_mode": {
    "name": "ipython",
    "version": 3
   },
   "file_extension": ".py",
   "mimetype": "text/x-python",
   "name": "python",
   "nbconvert_exporter": "python",
   "pygments_lexer": "ipython3",
   "version": "3.7.1"
  }
 },
 "nbformat": 4,
 "nbformat_minor": 2
}
