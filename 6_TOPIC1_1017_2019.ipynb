{
 "cells": [
  {
   "cell_type": "code",
   "execution_count": 27,
   "metadata": {},
   "outputs": [],
   "source": [
    "# import necessary modulus for manipulation\n",
    "import pandas as pd \n",
    "import numpy as np\n",
    "import matplotlib.pyplot as plt\n",
    "%matplotlib inline\n",
    "\n",
    "#import urlib.requesst to open URLs\n",
    "from urllib.request import urlopen \n",
    "\n",
    "#import Beautiful Soup package to extract data from html fles\n",
    "from bs4 import BeautifulSoup\n",
    "import re\n",
    "\n",
    "#import necessary modules for data visualization\n",
    "from pylab import rcParams\n",
    "import seaborn as sns, numpy as np"
   ]
  },
  {
   "cell_type": "code",
   "execution_count": 28,
   "metadata": {},
   "outputs": [],
   "source": [
    "#passing url to urlopen\n",
    "url=\"https://www.hubertiming.com/results/2019MLK\" #open link\n",
    "html = urlopen(url) "
   ]
  },
  {
   "cell_type": "code",
   "execution_count": 29,
   "metadata": {},
   "outputs": [],
   "source": [
    "#Create Beautiful Soup object by passing the html to the BeautifulSoup() finction to parse html\n",
    "soup = BeautifulSoup(html)"
   ]
  },
  {
   "cell_type": "code",
   "execution_count": 30,
   "metadata": {},
   "outputs": [],
   "source": [
    "#interate row and parse cell data in\n",
    "data = []\n",
    "allrows= soup.find_all(\"tr\")\n",
    "for row in allrows :\n",
    "    row_list = row.find_all(\"td\")\n",
    "    dataRow= []\n",
    "    for cell in row_list:\n",
    "        dataRow.append(cell.text)\n",
    "    data.append(dataRow)\n",
    "  \n",
    "data = data[6:] "
   ]
  },
  {
   "cell_type": "code",
   "execution_count": 31,
   "metadata": {},
   "outputs": [
    {
     "name": "stdout",
     "output_type": "stream",
     "text": [
      "['Place', 'Bib', 'Name', 'Gender', 'Age', 'City', 'State', 'Chip Time', 'Chip Pace', 'Gender Place', 'Age Group', 'Age Group Place', 'Time to Start', 'Gun Time']\n"
     ]
    }
   ],
   "source": [
    "#Check the data header to see if this is the what we want \n",
    "header_list = []\n",
    "col_headers = soup.find_all('th')\n",
    "for col in col_headers:\n",
    "    header_list.append(col.text)\n",
    "print(header_list)"
   ]
  },
  {
   "cell_type": "code",
   "execution_count": 32,
   "metadata": {},
   "outputs": [],
   "source": [
    "#Use pandas to make data frame\n",
    "df = pd.DataFrame(data)"
   ]
  },
  {
   "cell_type": "code",
   "execution_count": 33,
   "metadata": {},
   "outputs": [
    {
     "name": "stdout",
     "output_type": "stream",
     "text": [
      "  Place   Bib            Name Gender Age      City State Chip Time Chip Pace  \\\n",
      "0     1  1229  BURTON SCHABER      M  30  PORTLAND    OR     17:18      5:34   \n",
      "1     2  1019  ROBERT SIMPSON      M  31  PORTLAND    OR     18:28      5:56   \n",
      "2     3  1246      DAN FRANEK      M  53  PORTLAND    OR     18:53      6:04   \n",
      "3     4  1072       LEO CHANG      M  39  PORTLAND    OR     19:35      6:18   \n",
      "4     5  1175   KARA BATDORFF      F  27  PORTLAND    OR     20:04      6:27   \n",
      "\n",
      "  Gender Place Age Group Age Group Place Time to Start Gun Time  \n",
      "0      1 of 88   M 21-39         1 of 39          0:01    17:19  \n",
      "1      2 of 88   M 21-39         2 of 39          0:01    18:29  \n",
      "2      3 of 88   M 40-54         1 of 23          0:00    18:53  \n",
      "3      4 of 88   M 21-39         3 of 39          0:01    19:36  \n",
      "4     1 of 105   F 21-39         1 of 47          0:01    20:05  \n",
      "    Place   Bib                   Name Gender Age       City State Chip Time  \\\n",
      "196   197  1059         JASMINE MURPHY      F                        1:09:26   \n",
      "197   198  1062  NICOLE MURPHY- GARCIA                               1:09:26   \n",
      "198   199  1178         DIANE BRANDSMA      F  53  BEAVERTON    OR   1:10:23   \n",
      "199   200  1180          DAWN COTTRELL      F  62   PORTLAND    OR   1:10:32   \n",
      "200   201  1192       JONELLE ANDERSON      M  74   PORTLAND    OR   1:10:33   \n",
      "\n",
      "    Chip Pace Gender Place Age Group Age Group Place Time to Start Gun Time  \n",
      "196     22:21   103 of 105                  15 of 16          0:34  1:10:00  \n",
      "197     22:21       8 of 8                  16 of 16          0:34  1:10:00  \n",
      "198     22:39   104 of 105   F 40-54        41 of 41          0:12  1:10:35  \n",
      "199     22:42   105 of 105     F 55+        10 of 10          0:14  1:10:46  \n",
      "200     22:42     88 of 88     M 55+          2 of 2          0:15  1:10:48  \n"
     ]
    }
   ],
   "source": [
    "#Check data head and tail to ensure the dataframe is correct & remove missing data\n",
    "df.columns = header_list\n",
    "print(df.head())\n",
    "print(df.tail())"
   ]
  },
  {
   "cell_type": "code",
   "execution_count": 34,
   "metadata": {},
   "outputs": [
    {
     "data": {
      "text/plain": [
       "(201, 14)"
      ]
     },
     "execution_count": 34,
     "metadata": {},
     "output_type": "execute_result"
    }
   ],
   "source": [
    "#check data shape\n",
    "df.shape"
   ]
  },
  {
   "cell_type": "code",
   "execution_count": 35,
   "metadata": {},
   "outputs": [
    {
     "data": {
      "text/plain": [
       "(201, 14)"
      ]
     },
     "execution_count": 35,
     "metadata": {},
     "output_type": "execute_result"
    }
   ],
   "source": [
    "#check data and drop na data\n",
    "df2 = df.dropna(how='any')\n",
    "df.shape"
   ]
  },
  {
   "cell_type": "code",
   "execution_count": 36,
   "metadata": {},
   "outputs": [],
   "source": [
    "#add one column of Year since wanting to get 2014 to 2019, year os am index\n",
    "df2['Year'] = 2019"
   ]
  },
  {
   "cell_type": "code",
   "execution_count": 37,
   "metadata": {},
   "outputs": [],
   "source": [
    "#Add the hours if it is not missing h:m:s is the starndard formate in time\n",
    "df2['Chip Time'] = df2['Chip Time'].apply(lambda x : x.rjust(5, '0').rjust(6, ':').rjust(8, '0'))\n",
    "df2['ChipTime_minutes'] = df['Chip Time'].str.split(':').apply(lambda x: int(x[0]) * 60 + int(x[1]))"
   ]
  },
  {
   "cell_type": "code",
   "execution_count": 38,
   "metadata": {},
   "outputs": [],
   "source": [
    "#after formating time in h:m:s then convert time into mins\n",
    "time_list = df2['Chip Time'].tolist()\n",
    "\n",
    "# You can use a for loop to convert 'Chip Time' to minutes\n",
    "\n",
    "time_mins = []\n",
    "for i in time_list:\n",
    "    h, m, s = i.split(':')\n",
    "    cal = (int(h) * 3600 + int(m) * 60 + int(s))/60\n",
    "    time_mins.append(cal)\n",
    "#print(time_mins)"
   ]
  },
  {
   "cell_type": "code",
   "execution_count": 39,
   "metadata": {},
   "outputs": [
    {
     "data": {
      "text/html": [
       "<div>\n",
       "<style scoped>\n",
       "    .dataframe tbody tr th:only-of-type {\n",
       "        vertical-align: middle;\n",
       "    }\n",
       "\n",
       "    .dataframe tbody tr th {\n",
       "        vertical-align: top;\n",
       "    }\n",
       "\n",
       "    .dataframe thead th {\n",
       "        text-align: right;\n",
       "    }\n",
       "</style>\n",
       "<table border=\"1\" class=\"dataframe\">\n",
       "  <thead>\n",
       "    <tr style=\"text-align: right;\">\n",
       "      <th></th>\n",
       "      <th>Place</th>\n",
       "      <th>Bib</th>\n",
       "      <th>Name</th>\n",
       "      <th>Gender</th>\n",
       "      <th>Age</th>\n",
       "      <th>City</th>\n",
       "      <th>State</th>\n",
       "      <th>Chip Time</th>\n",
       "      <th>Chip Pace</th>\n",
       "      <th>Gender Place</th>\n",
       "      <th>Age Group</th>\n",
       "      <th>Age Group Place</th>\n",
       "      <th>Time to Start</th>\n",
       "      <th>Gun Time</th>\n",
       "      <th>Year</th>\n",
       "      <th>ChipTime_minutes</th>\n",
       "      <th>Runner_mins</th>\n",
       "    </tr>\n",
       "  </thead>\n",
       "  <tbody>\n",
       "    <tr>\n",
       "      <td>0</td>\n",
       "      <td>1</td>\n",
       "      <td>1229</td>\n",
       "      <td>BURTON SCHABER</td>\n",
       "      <td>M</td>\n",
       "      <td>30</td>\n",
       "      <td>PORTLAND</td>\n",
       "      <td>OR</td>\n",
       "      <td>00:17:18</td>\n",
       "      <td>5:34</td>\n",
       "      <td>1 of 88</td>\n",
       "      <td>M 21-39</td>\n",
       "      <td>1 of 39</td>\n",
       "      <td>0:01</td>\n",
       "      <td>17:19</td>\n",
       "      <td>2019</td>\n",
       "      <td>1038</td>\n",
       "      <td>17.300000</td>\n",
       "    </tr>\n",
       "    <tr>\n",
       "      <td>1</td>\n",
       "      <td>2</td>\n",
       "      <td>1019</td>\n",
       "      <td>ROBERT SIMPSON</td>\n",
       "      <td>M</td>\n",
       "      <td>31</td>\n",
       "      <td>PORTLAND</td>\n",
       "      <td>OR</td>\n",
       "      <td>00:18:28</td>\n",
       "      <td>5:56</td>\n",
       "      <td>2 of 88</td>\n",
       "      <td>M 21-39</td>\n",
       "      <td>2 of 39</td>\n",
       "      <td>0:01</td>\n",
       "      <td>18:29</td>\n",
       "      <td>2019</td>\n",
       "      <td>1108</td>\n",
       "      <td>18.466667</td>\n",
       "    </tr>\n",
       "    <tr>\n",
       "      <td>2</td>\n",
       "      <td>3</td>\n",
       "      <td>1246</td>\n",
       "      <td>DAN FRANEK</td>\n",
       "      <td>M</td>\n",
       "      <td>53</td>\n",
       "      <td>PORTLAND</td>\n",
       "      <td>OR</td>\n",
       "      <td>00:18:53</td>\n",
       "      <td>6:04</td>\n",
       "      <td>3 of 88</td>\n",
       "      <td>M 40-54</td>\n",
       "      <td>1 of 23</td>\n",
       "      <td>0:00</td>\n",
       "      <td>18:53</td>\n",
       "      <td>2019</td>\n",
       "      <td>1133</td>\n",
       "      <td>18.883333</td>\n",
       "    </tr>\n",
       "    <tr>\n",
       "      <td>3</td>\n",
       "      <td>4</td>\n",
       "      <td>1072</td>\n",
       "      <td>LEO CHANG</td>\n",
       "      <td>M</td>\n",
       "      <td>39</td>\n",
       "      <td>PORTLAND</td>\n",
       "      <td>OR</td>\n",
       "      <td>00:19:35</td>\n",
       "      <td>6:18</td>\n",
       "      <td>4 of 88</td>\n",
       "      <td>M 21-39</td>\n",
       "      <td>3 of 39</td>\n",
       "      <td>0:01</td>\n",
       "      <td>19:36</td>\n",
       "      <td>2019</td>\n",
       "      <td>1175</td>\n",
       "      <td>19.583333</td>\n",
       "    </tr>\n",
       "    <tr>\n",
       "      <td>4</td>\n",
       "      <td>5</td>\n",
       "      <td>1175</td>\n",
       "      <td>KARA BATDORFF</td>\n",
       "      <td>F</td>\n",
       "      <td>27</td>\n",
       "      <td>PORTLAND</td>\n",
       "      <td>OR</td>\n",
       "      <td>00:20:04</td>\n",
       "      <td>6:27</td>\n",
       "      <td>1 of 105</td>\n",
       "      <td>F 21-39</td>\n",
       "      <td>1 of 47</td>\n",
       "      <td>0:01</td>\n",
       "      <td>20:05</td>\n",
       "      <td>2019</td>\n",
       "      <td>1204</td>\n",
       "      <td>20.066667</td>\n",
       "    </tr>\n",
       "  </tbody>\n",
       "</table>\n",
       "</div>"
      ],
      "text/plain": [
       "  Place   Bib            Name Gender Age      City State Chip Time Chip Pace  \\\n",
       "0     1  1229  BURTON SCHABER      M  30  PORTLAND    OR  00:17:18      5:34   \n",
       "1     2  1019  ROBERT SIMPSON      M  31  PORTLAND    OR  00:18:28      5:56   \n",
       "2     3  1246      DAN FRANEK      M  53  PORTLAND    OR  00:18:53      6:04   \n",
       "3     4  1072       LEO CHANG      M  39  PORTLAND    OR  00:19:35      6:18   \n",
       "4     5  1175   KARA BATDORFF      F  27  PORTLAND    OR  00:20:04      6:27   \n",
       "\n",
       "  Gender Place Age Group Age Group Place Time to Start Gun Time  Year  \\\n",
       "0      1 of 88   M 21-39         1 of 39          0:01    17:19  2019   \n",
       "1      2 of 88   M 21-39         2 of 39          0:01    18:29  2019   \n",
       "2      3 of 88   M 40-54         1 of 23          0:00    18:53  2019   \n",
       "3      4 of 88   M 21-39         3 of 39          0:01    19:36  2019   \n",
       "4     1 of 105   F 21-39         1 of 47          0:01    20:05  2019   \n",
       "\n",
       "   ChipTime_minutes  Runner_mins  \n",
       "0              1038    17.300000  \n",
       "1              1108    18.466667  \n",
       "2              1133    18.883333  \n",
       "3              1175    19.583333  \n",
       "4              1204    20.066667  "
      ]
     },
     "execution_count": 39,
     "metadata": {},
     "output_type": "execute_result"
    }
   ],
   "source": [
    "# check if Runner_minus is added in the dataframe\n",
    "df2['Runner_mins'] = time_mins\n",
    "df2.head(5)"
   ]
  },
  {
   "cell_type": "code",
   "execution_count": 40,
   "metadata": {},
   "outputs": [
    {
     "data": {
      "text/plain": [
       "Text(0.5, 1.0, 'Comparsion of average minutes run by male and female')"
      ]
     },
     "execution_count": 40,
     "metadata": {},
     "output_type": "execute_result"
    },
    {
     "data": {
      "image/png": "[encoded data removed]",
      "text/plain": [
       "<Figure size 432x288 with 1 Axes>"
      ]
     },
     "metadata": {
      "needs_background": "light"
     },
     "output_type": "display_data"
    }
   ],
   "source": [
    "plt.scatter(df2['Gender'], df2['Runner_mins'])\n",
    "plt.xlabel('Gender')\n",
    "plt.ylabel('Runner_mins')\n",
    "plt.title(\"Comparsion of average minutes run by male and female\") "
   ]
  },
  {
   "cell_type": "code",
   "execution_count": 41,
   "metadata": {},
   "outputs": [
    {
     "data": {
      "text/html": [
       "<div>\n",
       "<style scoped>\n",
       "    .dataframe tbody tr th:only-of-type {\n",
       "        vertical-align: middle;\n",
       "    }\n",
       "\n",
       "    .dataframe tbody tr th {\n",
       "        vertical-align: top;\n",
       "    }\n",
       "\n",
       "    .dataframe thead th {\n",
       "        text-align: right;\n",
       "    }\n",
       "</style>\n",
       "<table border=\"1\" class=\"dataframe\">\n",
       "  <thead>\n",
       "    <tr style=\"text-align: right;\">\n",
       "      <th></th>\n",
       "      <th>Year</th>\n",
       "      <th>ChipTime_minutes</th>\n",
       "      <th>Runner_mins</th>\n",
       "    </tr>\n",
       "  </thead>\n",
       "  <tbody>\n",
       "    <tr>\n",
       "      <td>count</td>\n",
       "      <td>201.0</td>\n",
       "      <td>201.000000</td>\n",
       "      <td>201.000000</td>\n",
       "    </tr>\n",
       "    <tr>\n",
       "      <td>mean</td>\n",
       "      <td>2019.0</td>\n",
       "      <td>1964.995025</td>\n",
       "      <td>36.964594</td>\n",
       "    </tr>\n",
       "    <tr>\n",
       "      <td>std</td>\n",
       "      <td>0.0</td>\n",
       "      <td>775.900493</td>\n",
       "      <td>12.579913</td>\n",
       "    </tr>\n",
       "    <tr>\n",
       "      <td>min</td>\n",
       "      <td>2019.0</td>\n",
       "      <td>60.000000</td>\n",
       "      <td>17.300000</td>\n",
       "    </tr>\n",
       "    <tr>\n",
       "      <td>25%</td>\n",
       "      <td>2019.0</td>\n",
       "      <td>1555.000000</td>\n",
       "      <td>27.633333</td>\n",
       "    </tr>\n",
       "    <tr>\n",
       "      <td>50%</td>\n",
       "      <td>2019.0</td>\n",
       "      <td>1890.000000</td>\n",
       "      <td>33.150000</td>\n",
       "    </tr>\n",
       "    <tr>\n",
       "      <td>75%</td>\n",
       "      <td>2019.0</td>\n",
       "      <td>2429.000000</td>\n",
       "      <td>46.283333</td>\n",
       "    </tr>\n",
       "    <tr>\n",
       "      <td>max</td>\n",
       "      <td>2019.0</td>\n",
       "      <td>3541.000000</td>\n",
       "      <td>70.550000</td>\n",
       "    </tr>\n",
       "  </tbody>\n",
       "</table>\n",
       "</div>"
      ],
      "text/plain": [
       "         Year  ChipTime_minutes  Runner_mins\n",
       "count   201.0        201.000000   201.000000\n",
       "mean   2019.0       1964.995025    36.964594\n",
       "std       0.0        775.900493    12.579913\n",
       "min    2019.0         60.000000    17.300000\n",
       "25%    2019.0       1555.000000    27.633333\n",
       "50%    2019.0       1890.000000    33.150000\n",
       "75%    2019.0       2429.000000    46.283333\n",
       "max    2019.0       3541.000000    70.550000"
      ]
     },
     "execution_count": 41,
     "metadata": {},
     "output_type": "execute_result"
    }
   ],
   "source": [
    "df2.describe(include=[np.number])"
   ]
  },
  {
   "cell_type": "code",
   "execution_count": 42,
   "metadata": {},
   "outputs": [
    {
     "data": {
      "text/plain": [
       "Text(0, 0.5, 'Run time')"
      ]
     },
     "execution_count": 42,
     "metadata": {},
     "output_type": "execute_result"
    },
    {
     "data": {
      "image/png": "[encoded data removed]",
      "text/plain": [
       "<Figure size 432x288 with 1 Axes>"
      ]
     },
     "metadata": {
      "needs_background": "light"
     },
     "output_type": "display_data"
    }
   ],
   "source": [
    "df2.boxplot(column='Runner_mins', by = 'Gender')\n",
    "plt.ylabel('Run time')"
   ]
  },
  {
   "cell_type": "code",
   "execution_count": 43,
   "metadata": {},
   "outputs": [
    {
     "data": {
      "text/html": [
       "<div>\n",
       "<style scoped>\n",
       "    .dataframe tbody tr th:only-of-type {\n",
       "        vertical-align: middle;\n",
       "    }\n",
       "\n",
       "    .dataframe tbody tr th {\n",
       "        vertical-align: top;\n",
       "    }\n",
       "\n",
       "    .dataframe thead th {\n",
       "        text-align: right;\n",
       "    }\n",
       "</style>\n",
       "<table border=\"1\" class=\"dataframe\">\n",
       "  <thead>\n",
       "    <tr style=\"text-align: right;\">\n",
       "      <th></th>\n",
       "      <th>Place</th>\n",
       "      <th>Bib</th>\n",
       "      <th>Name</th>\n",
       "      <th>Gender</th>\n",
       "      <th>Age</th>\n",
       "      <th>City</th>\n",
       "      <th>State</th>\n",
       "      <th>Chip Time</th>\n",
       "      <th>Chip Pace</th>\n",
       "      <th>Gender Place</th>\n",
       "      <th>Age Group</th>\n",
       "      <th>Age Group Place</th>\n",
       "      <th>Time to Start</th>\n",
       "      <th>Gun Time</th>\n",
       "    </tr>\n",
       "  </thead>\n",
       "  <tbody>\n",
       "    <tr>\n",
       "      <td>count</td>\n",
       "      <td>201</td>\n",
       "      <td>201</td>\n",
       "      <td>201</td>\n",
       "      <td>201</td>\n",
       "      <td>201</td>\n",
       "      <td>201</td>\n",
       "      <td>201</td>\n",
       "      <td>201</td>\n",
       "      <td>201</td>\n",
       "      <td>201</td>\n",
       "      <td>201</td>\n",
       "      <td>201</td>\n",
       "      <td>201</td>\n",
       "      <td>201</td>\n",
       "    </tr>\n",
       "    <tr>\n",
       "      <td>unique</td>\n",
       "      <td>201</td>\n",
       "      <td>201</td>\n",
       "      <td>196</td>\n",
       "      <td>3</td>\n",
       "      <td>55</td>\n",
       "      <td>15</td>\n",
       "      <td>4</td>\n",
       "      <td>180</td>\n",
       "      <td>156</td>\n",
       "      <td>201</td>\n",
       "      <td>9</td>\n",
       "      <td>201</td>\n",
       "      <td>37</td>\n",
       "      <td>174</td>\n",
       "    </tr>\n",
       "    <tr>\n",
       "      <td>top</td>\n",
       "      <td>200</td>\n",
       "      <td>1271</td>\n",
       "      <td>UNKNOWN RUNNER SEE TIMER</td>\n",
       "      <td>F</td>\n",
       "      <td></td>\n",
       "      <td>PORTLAND</td>\n",
       "      <td>OR</td>\n",
       "      <td>00:27:08</td>\n",
       "      <td>17:43</td>\n",
       "      <td>98 of 105</td>\n",
       "      <td>F 21-39</td>\n",
       "      <td>5 of 47</td>\n",
       "      <td>0:04</td>\n",
       "      <td>29:05</td>\n",
       "    </tr>\n",
       "    <tr>\n",
       "      <td>freq</td>\n",
       "      <td>1</td>\n",
       "      <td>1</td>\n",
       "      <td>6</td>\n",
       "      <td>105</td>\n",
       "      <td>16</td>\n",
       "      <td>124</td>\n",
       "      <td>141</td>\n",
       "      <td>3</td>\n",
       "      <td>3</td>\n",
       "      <td>1</td>\n",
       "      <td>47</td>\n",
       "      <td>1</td>\n",
       "      <td>12</td>\n",
       "      <td>3</td>\n",
       "    </tr>\n",
       "  </tbody>\n",
       "</table>\n",
       "</div>"
      ],
      "text/plain": [
       "       Place   Bib                      Name Gender  Age      City State  \\\n",
       "count    201   201                       201    201  201       201   201   \n",
       "unique   201   201                       196      3   55        15     4   \n",
       "top      200  1271  UNKNOWN RUNNER SEE TIMER      F       PORTLAND    OR   \n",
       "freq       1     1                         6    105   16       124   141   \n",
       "\n",
       "       Chip Time Chip Pace Gender Place Age Group Age Group Place  \\\n",
       "count        201       201          201       201             201   \n",
       "unique       180       156          201         9             201   \n",
       "top     00:27:08     17:43    98 of 105   F 21-39         5 of 47   \n",
       "freq           3         3            1        47               1   \n",
       "\n",
       "       Time to Start Gun Time  \n",
       "count            201      201  \n",
       "unique            37      174  \n",
       "top             0:04    29:05  \n",
       "freq              12        3  "
      ]
     },
     "execution_count": 43,
     "metadata": {},
     "output_type": "execute_result"
    }
   ],
   "source": [
    "df2.describe(include=[np])"
   ]
  },
  {
   "cell_type": "code",
   "execution_count": 44,
   "metadata": {},
   "outputs": [
    {
     "data": {
      "image/png": "[encoded data removed]",
      "text/plain": [
       "<Figure size 432x288 with 1 Axes>"
      ]
     },
     "metadata": {
      "needs_background": "light"
     },
     "output_type": "display_data"
    },
    {
     "data": {
      "text/plain": [
       "<matplotlib.legend.Legend at 0x16b63a22908>"
      ]
     },
     "execution_count": 44,
     "metadata": {},
     "output_type": "execute_result"
    },
    {
     "data": {
      "image/png": "[encoded data removed]",
      "text/plain": [
       "<Figure size 360x360 with 1 Axes>"
      ]
     },
     "metadata": {
      "needs_background": "light"
     },
     "output_type": "display_data"
    }
   ],
   "source": [
    "import seaborn as sns, numpy as np\n",
    "df2['Age_i'] = round(pd.to_numeric(df2['Age'], errors='coerce'))\n",
    "df2.dropna(how ='any', inplace = True)\n",
    "df = plt.scatter(df2['Runner_mins'], df2['Age_i'])\n",
    "df = plt.ylabel('Run time')\n",
    "df= plt.xlabel('Age')\n",
    "df = plt.show()\n",
    "\n",
    "sns.lmplot( x='Age_i', y='Runner_mins', data=df2, fit_reg=True, hue='Gender', legend=False)\n",
    "plt.legend(loc='lower right')\n"
   ]
  },
  {
   "cell_type": "code",
   "execution_count": 45,
   "metadata": {},
   "outputs": [
    {
     "data": {
      "image/png": "[encoded data removed]",
      "text/plain": [
       "<Figure size 432x288 with 1 Axes>"
      ]
     },
     "metadata": {
      "needs_background": "light"
     },
     "output_type": "display_data"
    }
   ],
   "source": [
    "import seaborn as sns, numpy as np\n",
    "x = df2['Runner_mins']\n",
    "ax = sns.distplot(x, hist=True, kde=True, rug=False, color='m', bins=25, hist_kws={'edgecolor':'black'})\n",
    "plt.show()"
   ]
  },
  {
   "cell_type": "code",
   "execution_count": 46,
   "metadata": {},
   "outputs": [
    {
     "data": {
      "text/plain": [
       "<matplotlib.legend.Legend at 0x16b63dcf2e8>"
      ]
     },
     "execution_count": 46,
     "metadata": {},
     "output_type": "execute_result"
    },
    {
     "data": {
      "image/png": "[encoded data removed]",
      "text/plain": [
       "<Figure size 432x288 with 1 Axes>"
      ]
     },
     "metadata": {
      "needs_background": "light"
     },
     "output_type": "display_data"
    }
   ],
   "source": [
    "f_runner = df2.loc[df2['Gender']=='F']['Runner_mins']\n",
    "m_runner = df2.loc[df2['Gender']=='M']['Runner_mins']\n",
    "sns.distplot(f_runner, hist=True, kde=True, rug=False, hist_kws={'edgecolor':'black'}, label='Female')\n",
    "sns.distplot(m_runner, hist=True, kde=True, rug=False, hist_kws={'edgecolor':'black'}, label='Male')\n",
    "plt.legend()"
   ]
  },
  {
   "cell_type": "code",
   "execution_count": 47,
   "metadata": {},
   "outputs": [],
   "source": [
    "from pylab import rcParams\n",
    "rcParams['figure.figsize'] = 15, 5"
   ]
  },
  {
   "cell_type": "code",
   "execution_count": 48,
   "metadata": {},
   "outputs": [
    {
     "name": "stdout",
     "output_type": "stream",
     "text": [
      "         Year                                                       \\\n",
      "        count    mean  std     min     25%     50%     75%     max   \n",
      "Gender                                                               \n",
      "F       104.0  2019.0  0.0  2019.0  2019.0  2019.0  2019.0  2019.0   \n",
      "M        81.0  2019.0  0.0  2019.0  2019.0  2019.0  2019.0  2019.0   \n",
      "\n",
      "       ChipTime_minutes               ... Runner_mins             Age_i  \\\n",
      "                  count         mean  ...         75%        max  count   \n",
      "Gender                                ...                                 \n",
      "F                 104.0  2081.105769  ...   46.270833  70.533333  104.0   \n",
      "M                  81.0  1858.172840  ...   39.983333  70.550000   81.0   \n",
      "\n",
      "                                                            \n",
      "             mean        std  min   25%   50%    75%   max  \n",
      "Gender                                                      \n",
      "F       38.528846  12.310668  7.0  30.0  39.0  46.25  71.0  \n",
      "M       32.074074  13.683729  7.0  24.0  33.0  42.00  74.0  \n",
      "\n",
      "[2 rows x 32 columns]\n"
     ]
    }
   ],
   "source": [
    "g_stats = df2.groupby(\"Gender\", as_index=True).describe()\n",
    "print(g_stats)"
   ]
  },
  {
   "cell_type": "code",
   "execution_count": 49,
   "metadata": {},
   "outputs": [
    {
     "data": {
      "text/plain": [
       "Text(0, 0.5, 'Run time')"
      ]
     },
     "execution_count": 49,
     "metadata": {},
     "output_type": "execute_result"
    },
    {
     "data": {
      "image/png": "[encoded data removed]",
      "text/plain": [
       "<Figure size 1080x360 with 1 Axes>"
      ]
     },
     "metadata": {
      "needs_background": "light"
     },
     "output_type": "display_data"
    }
   ],
   "source": [
    "df2.boxplot(column='Runner_mins', by = 'State')\n",
    "plt.ylabel('Run time')"
   ]
  },
  {
   "cell_type": "code",
   "execution_count": 50,
   "metadata": {},
   "outputs": [
    {
     "data": {
      "text/plain": [
       "Text(0, 0.5, 'Run time')"
      ]
     },
     "execution_count": 50,
     "metadata": {},
     "output_type": "execute_result"
    },
    {
     "data": {
      "image/png": "[encoded data removed]",
      "text/plain": [
       "<Figure size 1080x360 with 1 Axes>"
      ]
     },
     "metadata": {
      "needs_background": "light"
     },
     "output_type": "display_data"
    }
   ],
   "source": [
    "df2.boxplot(column='Runner_mins', by = 'Year')\n",
    "plt.ylabel('Run time')"
   ]
  },
  {
   "cell_type": "code",
   "execution_count": 51,
   "metadata": {},
   "outputs": [
    {
     "name": "stdout",
     "output_type": "stream",
     "text": [
      "                Year                                                       \\\n",
      "               count    mean  std     min     25%     50%     75%     max   \n",
      "Age Group                                                                   \n",
      "F 20 and Under   6.0  2019.0  0.0  2019.0  2019.0  2019.0  2019.0  2019.0   \n",
      "F 21-39         47.0  2019.0  0.0  2019.0  2019.0  2019.0  2019.0  2019.0   \n",
      "F 40-54         41.0  2019.0  0.0  2019.0  2019.0  2019.0  2019.0  2019.0   \n",
      "F 55+           10.0  2019.0  0.0  2019.0  2019.0  2019.0  2019.0  2019.0   \n",
      "M 20 and Under  17.0  2019.0  0.0  2019.0  2019.0  2019.0  2019.0  2019.0   \n",
      "M 21-39         39.0  2019.0  0.0  2019.0  2019.0  2019.0  2019.0  2019.0   \n",
      "M 40-54         23.0  2019.0  0.0  2019.0  2019.0  2019.0  2019.0  2019.0   \n",
      "M 55+            2.0  2019.0  0.0  2019.0  2019.0  2019.0  2019.0  2019.0   \n",
      "\n",
      "               ChipTime_minutes               ... Runner_mins             \\\n",
      "                          count         mean  ...         75%        max   \n",
      "Age Group                                     ...                          \n",
      "F 20 and Under              6.0  2381.333333  ...   45.308333  50.350000   \n",
      "F 21-39                    47.0  1998.659574  ...   39.866667  62.800000   \n",
      "F 40-54                    41.0  2273.585366  ...   47.333333  70.383333   \n",
      "F 55+                      10.0  1499.300000  ...   36.725000  70.533333   \n",
      "M 20 and Under             17.0  1975.882353  ...   39.866667  58.983333   \n",
      "M 21-39                    39.0  1857.897436  ...   40.183333  62.816667   \n",
      "M 40-54                    23.0  1868.000000  ...   37.500000  51.833333   \n",
      "M 55+                       2.0   750.000000  ...   58.870833  70.550000   \n",
      "\n",
      "               Age_i                                                      \n",
      "               count       mean       std   min   25%   50%    75%   max  \n",
      "Age Group                                                                 \n",
      "F 20 and Under   6.0  11.166667  3.060501   7.0  10.0  10.5  12.50  16.0  \n",
      "F 21-39         47.0  31.617021  4.923560  24.0  27.0  32.0  35.50  39.0  \n",
      "F 40-54         41.0  45.024390  4.441215  40.0  41.0  44.0  48.00  54.0  \n",
      "F 55+           10.0  60.800000  5.072803  55.0  57.0  60.0  63.75  71.0  \n",
      "M 20 and Under  17.0  12.176471  3.924845   7.0   9.0  12.0  14.00  20.0  \n",
      "M 21-39         39.0  31.410256  5.461434  22.0  27.0  31.0  36.50  39.0  \n",
      "M 40-54         23.0  44.608696  3.869920  40.0  42.0  43.0  47.00  53.0  \n",
      "M 55+            2.0  70.000000  5.656854  66.0  68.0  70.0  72.00  74.0  \n",
      "\n",
      "[8 rows x 32 columns]\n"
     ]
    }
   ],
   "source": [
    "g_stats = df2.groupby(\"Age Group\", as_index=True).describe()\n",
    "print(g_stats)"
   ]
  },
  {
   "cell_type": "code",
   "execution_count": 52,
   "metadata": {},
   "outputs": [],
   "source": [
    "#Write to CSV\n",
    "df2.to_csv('final2019.csv')"
   ]
  },
  {
   "cell_type": "code",
   "execution_count": null,
   "metadata": {},
   "outputs": [],
   "source": []
  },
  {
   "cell_type": "code",
   "execution_count": null,
   "metadata": {},
   "outputs": [],
   "source": []
  },
  {
   "cell_type": "code",
   "execution_count": null,
   "metadata": {},
   "outputs": [],
   "source": []
  }
 ],
 "metadata": {
  "kernelspec": {
   "display_name": "Python 3",
   "language": "python",
   "name": "python3"
  },
  "language_info": {
   "codemirror_mode": {
    "name": "ipython",
    "version": 3
   },
   "file_extension": ".py",
   "mimetype": "text/x-python",
   "name": "python",
   "nbconvert_exporter": "python",
   "pygments_lexer": "ipython3",
   "version": "3.7.1"
  }
 },
 "nbformat": 4,
 "nbformat_minor": 2
}
