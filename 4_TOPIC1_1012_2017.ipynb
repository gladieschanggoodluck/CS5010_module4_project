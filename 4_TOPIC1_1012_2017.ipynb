{
 "cells": [
  {
   "cell_type": "code",
   "execution_count": 27,
   "metadata": {},
   "outputs": [],
   "source": [
    "import pandas as pd\n",
    "import numpy as np\n",
    "import matplotlib.pyplot as plt\n",
    "\n",
    "%matplotlib inline\n",
    "\n",
    "from urllib.request import urlopen\n",
    "from bs4 import BeautifulSoup\n",
    "import re"
   ]
  },
  {
   "cell_type": "code",
   "execution_count": 28,
   "metadata": {},
   "outputs": [],
   "source": [
    "url=\"https://www.hubertiming.com/results/2017MLK\" #open link\n",
    "html = urlopen(url)"
   ]
  },
  {
   "cell_type": "code",
   "execution_count": 29,
   "metadata": {},
   "outputs": [],
   "source": [
    "soup = BeautifulSoup(html)"
   ]
  },
  {
   "cell_type": "code",
   "execution_count": 30,
   "metadata": {},
   "outputs": [],
   "source": [
    "data = []\n",
    "allrows= soup.find_all(\"tr\")\n",
    "for row in allrows :\n",
    "    row_list = row.find_all(\"td\")\n",
    "    dataRow= []\n",
    "    for cell in row_list:\n",
    "        dataRow.append(cell.text)\n",
    "    data.append(dataRow)\n",
    "  \n",
    "data = data[6:] "
   ]
  },
  {
   "cell_type": "code",
   "execution_count": 31,
   "metadata": {},
   "outputs": [
    {
     "name": "stdout",
     "output_type": "stream",
     "text": [
      "['Place', 'Bib', 'Name', 'Gender', 'Age', 'City', 'State', 'Chip Time', 'Chip Pace', 'Gender Place', 'Age Group', 'Age Group Place', 'Time to Start', 'Gun Time']\n"
     ]
    }
   ],
   "source": [
    "header_list = []\n",
    "col_headers = soup.find_all('th')\n",
    "for col in col_headers:\n",
    "    header_list.append(col.text)\n",
    "print(header_list)"
   ]
  },
  {
   "cell_type": "code",
   "execution_count": 32,
   "metadata": {},
   "outputs": [],
   "source": [
    "df = pd.DataFrame(data)"
   ]
  },
  {
   "cell_type": "code",
   "execution_count": 33,
   "metadata": {},
   "outputs": [
    {
     "name": "stdout",
     "output_type": "stream",
     "text": [
      "  Place   Bib            Name Gender Age      City State Chip Time Chip Pace  \\\n",
      "0     2  1206      DAN FRANEK      M  51  PORTLAND    OR     18:20      5:55   \n",
      "1     3  1114  MELVIN LATHARA      M  32  PORTLAND    OR     18:43      6:02   \n",
      "2     4  1095     ADAM MANGUS      M  38  PORTLAND    OR     22:07      7:08   \n",
      "3     5  1227       ALEX KABA      M  35                     22:13      7:10   \n",
      "4     6  1220    CRAIG BREWER      M  57                     22:18      7:11   \n",
      "\n",
      "  Gender Place Age Group Age Group Place Time to Start Gun Time  \n",
      "0      2 of 75   M 40-54         1 of 25          0:06    18:26  \n",
      "1      3 of 75   M 21-39         2 of 29          0:07    18:50  \n",
      "2      4 of 75   M 21-39         3 of 29          0:14    22:21  \n",
      "3      5 of 75   M 21-39         4 of 29          0:11    22:24  \n",
      "4      6 of 75     M 55+          1 of 6          0:08    22:26  \n"
     ]
    }
   ],
   "source": [
    "df.columns = header_list\n",
    "print(df.head())"
   ]
  },
  {
   "cell_type": "code",
   "execution_count": 34,
   "metadata": {},
   "outputs": [
    {
     "data": {
      "text/plain": [
       "(175, 14)"
      ]
     },
     "execution_count": 34,
     "metadata": {},
     "output_type": "execute_result"
    }
   ],
   "source": [
    "df.shape"
   ]
  },
  {
   "cell_type": "code",
   "execution_count": 35,
   "metadata": {},
   "outputs": [
    {
     "data": {
      "text/plain": [
       "(175, 14)"
      ]
     },
     "execution_count": 35,
     "metadata": {},
     "output_type": "execute_result"
    }
   ],
   "source": [
    "df2 = df.dropna(how='any')\n",
    "df.shape"
   ]
  },
  {
   "cell_type": "code",
   "execution_count": 36,
   "metadata": {},
   "outputs": [],
   "source": [
    "df2['Year'] = 2017"
   ]
  },
  {
   "cell_type": "code",
   "execution_count": 37,
   "metadata": {},
   "outputs": [],
   "source": [
    "df2['Chip Time'] = df2['Chip Time'].apply(lambda x : x.rjust(5, '0').rjust(6, ':').rjust(8, '0'))\n",
    "df2['ChipTime_minutes'] = df['Chip Time'].str.split(':').apply(lambda x: int(x[0]) * 60 + int(x[1]))"
   ]
  },
  {
   "cell_type": "code",
   "execution_count": 38,
   "metadata": {},
   "outputs": [],
   "source": [
    "time_list = df2['Chip Time'].tolist()\n",
    "\n",
    "# You can use a for loop to convert 'Chip Time' to minutes\n",
    "\n",
    "time_mins = []\n",
    "for i in time_list:\n",
    "    h, m, s = i.split(':')\n",
    "    math = (int(h) * 3600 + int(m) * 60 + int(s))/60\n",
    "    time_mins.append(math)\n",
    "#print(time_mins)"
   ]
  },
  {
   "cell_type": "code",
   "execution_count": 39,
   "metadata": {},
   "outputs": [
    {
     "data": {
      "text/html": [
       "<div>\n",
       "<style scoped>\n",
       "    .dataframe tbody tr th:only-of-type {\n",
       "        vertical-align: middle;\n",
       "    }\n",
       "\n",
       "    .dataframe tbody tr th {\n",
       "        vertical-align: top;\n",
       "    }\n",
       "\n",
       "    .dataframe thead th {\n",
       "        text-align: right;\n",
       "    }\n",
       "</style>\n",
       "<table border=\"1\" class=\"dataframe\">\n",
       "  <thead>\n",
       "    <tr style=\"text-align: right;\">\n",
       "      <th></th>\n",
       "      <th>Place</th>\n",
       "      <th>Bib</th>\n",
       "      <th>Name</th>\n",
       "      <th>Gender</th>\n",
       "      <th>Age</th>\n",
       "      <th>City</th>\n",
       "      <th>State</th>\n",
       "      <th>Chip Time</th>\n",
       "      <th>Chip Pace</th>\n",
       "      <th>Gender Place</th>\n",
       "      <th>Age Group</th>\n",
       "      <th>Age Group Place</th>\n",
       "      <th>Time to Start</th>\n",
       "      <th>Gun Time</th>\n",
       "      <th>Year</th>\n",
       "      <th>ChipTime_minutes</th>\n",
       "      <th>Runner_mins</th>\n",
       "    </tr>\n",
       "  </thead>\n",
       "  <tbody>\n",
       "    <tr>\n",
       "      <td>0</td>\n",
       "      <td>2</td>\n",
       "      <td>1206</td>\n",
       "      <td>DAN FRANEK</td>\n",
       "      <td>M</td>\n",
       "      <td>51</td>\n",
       "      <td>PORTLAND</td>\n",
       "      <td>OR</td>\n",
       "      <td>00:18:20</td>\n",
       "      <td>5:55</td>\n",
       "      <td>2 of 75</td>\n",
       "      <td>M 40-54</td>\n",
       "      <td>1 of 25</td>\n",
       "      <td>0:06</td>\n",
       "      <td>18:26</td>\n",
       "      <td>2017</td>\n",
       "      <td>1100</td>\n",
       "      <td>18.333333</td>\n",
       "    </tr>\n",
       "    <tr>\n",
       "      <td>1</td>\n",
       "      <td>3</td>\n",
       "      <td>1114</td>\n",
       "      <td>MELVIN LATHARA</td>\n",
       "      <td>M</td>\n",
       "      <td>32</td>\n",
       "      <td>PORTLAND</td>\n",
       "      <td>OR</td>\n",
       "      <td>00:18:43</td>\n",
       "      <td>6:02</td>\n",
       "      <td>3 of 75</td>\n",
       "      <td>M 21-39</td>\n",
       "      <td>2 of 29</td>\n",
       "      <td>0:07</td>\n",
       "      <td>18:50</td>\n",
       "      <td>2017</td>\n",
       "      <td>1123</td>\n",
       "      <td>18.716667</td>\n",
       "    </tr>\n",
       "    <tr>\n",
       "      <td>2</td>\n",
       "      <td>4</td>\n",
       "      <td>1095</td>\n",
       "      <td>ADAM MANGUS</td>\n",
       "      <td>M</td>\n",
       "      <td>38</td>\n",
       "      <td>PORTLAND</td>\n",
       "      <td>OR</td>\n",
       "      <td>00:22:07</td>\n",
       "      <td>7:08</td>\n",
       "      <td>4 of 75</td>\n",
       "      <td>M 21-39</td>\n",
       "      <td>3 of 29</td>\n",
       "      <td>0:14</td>\n",
       "      <td>22:21</td>\n",
       "      <td>2017</td>\n",
       "      <td>1327</td>\n",
       "      <td>22.116667</td>\n",
       "    </tr>\n",
       "    <tr>\n",
       "      <td>3</td>\n",
       "      <td>5</td>\n",
       "      <td>1227</td>\n",
       "      <td>ALEX KABA</td>\n",
       "      <td>M</td>\n",
       "      <td>35</td>\n",
       "      <td></td>\n",
       "      <td></td>\n",
       "      <td>00:22:13</td>\n",
       "      <td>7:10</td>\n",
       "      <td>5 of 75</td>\n",
       "      <td>M 21-39</td>\n",
       "      <td>4 of 29</td>\n",
       "      <td>0:11</td>\n",
       "      <td>22:24</td>\n",
       "      <td>2017</td>\n",
       "      <td>1333</td>\n",
       "      <td>22.216667</td>\n",
       "    </tr>\n",
       "    <tr>\n",
       "      <td>4</td>\n",
       "      <td>6</td>\n",
       "      <td>1220</td>\n",
       "      <td>CRAIG BREWER</td>\n",
       "      <td>M</td>\n",
       "      <td>57</td>\n",
       "      <td></td>\n",
       "      <td></td>\n",
       "      <td>00:22:18</td>\n",
       "      <td>7:11</td>\n",
       "      <td>6 of 75</td>\n",
       "      <td>M 55+</td>\n",
       "      <td>1 of 6</td>\n",
       "      <td>0:08</td>\n",
       "      <td>22:26</td>\n",
       "      <td>2017</td>\n",
       "      <td>1338</td>\n",
       "      <td>22.300000</td>\n",
       "    </tr>\n",
       "  </tbody>\n",
       "</table>\n",
       "</div>"
      ],
      "text/plain": [
       "  Place   Bib            Name Gender Age      City State Chip Time Chip Pace  \\\n",
       "0     2  1206      DAN FRANEK      M  51  PORTLAND    OR  00:18:20      5:55   \n",
       "1     3  1114  MELVIN LATHARA      M  32  PORTLAND    OR  00:18:43      6:02   \n",
       "2     4  1095     ADAM MANGUS      M  38  PORTLAND    OR  00:22:07      7:08   \n",
       "3     5  1227       ALEX KABA      M  35                  00:22:13      7:10   \n",
       "4     6  1220    CRAIG BREWER      M  57                  00:22:18      7:11   \n",
       "\n",
       "  Gender Place Age Group Age Group Place Time to Start Gun Time  Year  \\\n",
       "0      2 of 75   M 40-54         1 of 25          0:06    18:26  2017   \n",
       "1      3 of 75   M 21-39         2 of 29          0:07    18:50  2017   \n",
       "2      4 of 75   M 21-39         3 of 29          0:14    22:21  2017   \n",
       "3      5 of 75   M 21-39         4 of 29          0:11    22:24  2017   \n",
       "4      6 of 75     M 55+          1 of 6          0:08    22:26  2017   \n",
       "\n",
       "   ChipTime_minutes  Runner_mins  \n",
       "0              1100    18.333333  \n",
       "1              1123    18.716667  \n",
       "2              1327    22.116667  \n",
       "3              1333    22.216667  \n",
       "4              1338    22.300000  "
      ]
     },
     "execution_count": 39,
     "metadata": {},
     "output_type": "execute_result"
    }
   ],
   "source": [
    "df2['Runner_mins'] = time_mins\n",
    "df2.head(5)"
   ]
  },
  {
   "cell_type": "code",
   "execution_count": 40,
   "metadata": {},
   "outputs": [
    {
     "data": {
      "text/plain": [
       "Text(0.5, 1.0, 'Comparsion of average minutes run by male and female')"
      ]
     },
     "execution_count": 40,
     "metadata": {},
     "output_type": "execute_result"
    },
    {
     "data": {
      "image/png": "[encoded data removed]",
      "text/plain": [
       "<Figure size 432x288 with 1 Axes>"
      ]
     },
     "metadata": {
      "needs_background": "light"
     },
     "output_type": "display_data"
    }
   ],
   "source": [
    "plt.scatter(df2['Gender'], df2['Runner_mins'])\n",
    "plt.xlabel('Gender')\n",
    "plt.ylabel('Runner_mins')\n",
    "plt.title(\"Comparsion of average minutes run by male and female\") "
   ]
  },
  {
   "cell_type": "code",
   "execution_count": 41,
   "metadata": {},
   "outputs": [
    {
     "data": {
      "text/html": [
       "<div>\n",
       "<style scoped>\n",
       "    .dataframe tbody tr th:only-of-type {\n",
       "        vertical-align: middle;\n",
       "    }\n",
       "\n",
       "    .dataframe tbody tr th {\n",
       "        vertical-align: top;\n",
       "    }\n",
       "\n",
       "    .dataframe thead th {\n",
       "        text-align: right;\n",
       "    }\n",
       "</style>\n",
       "<table border=\"1\" class=\"dataframe\">\n",
       "  <thead>\n",
       "    <tr style=\"text-align: right;\">\n",
       "      <th></th>\n",
       "      <th>Year</th>\n",
       "      <th>ChipTime_minutes</th>\n",
       "      <th>Runner_mins</th>\n",
       "    </tr>\n",
       "  </thead>\n",
       "  <tbody>\n",
       "    <tr>\n",
       "      <td>count</td>\n",
       "      <td>175.0</td>\n",
       "      <td>175.000000</td>\n",
       "      <td>175.000000</td>\n",
       "    </tr>\n",
       "    <tr>\n",
       "      <td>mean</td>\n",
       "      <td>2017.0</td>\n",
       "      <td>2099.971429</td>\n",
       "      <td>41.666667</td>\n",
       "    </tr>\n",
       "    <tr>\n",
       "      <td>std</td>\n",
       "      <td>0.0</td>\n",
       "      <td>935.987372</td>\n",
       "      <td>17.388009</td>\n",
       "    </tr>\n",
       "    <tr>\n",
       "      <td>min</td>\n",
       "      <td>2017.0</td>\n",
       "      <td>62.000000</td>\n",
       "      <td>18.333333</td>\n",
       "    </tr>\n",
       "    <tr>\n",
       "      <td>25%</td>\n",
       "      <td>2017.0</td>\n",
       "      <td>1563.000000</td>\n",
       "      <td>27.766667</td>\n",
       "    </tr>\n",
       "    <tr>\n",
       "      <td>50%</td>\n",
       "      <td>2017.0</td>\n",
       "      <td>2017.000000</td>\n",
       "      <td>37.766667</td>\n",
       "    </tr>\n",
       "    <tr>\n",
       "      <td>75%</td>\n",
       "      <td>2017.0</td>\n",
       "      <td>2872.000000</td>\n",
       "      <td>52.425000</td>\n",
       "    </tr>\n",
       "    <tr>\n",
       "      <td>max</td>\n",
       "      <td>2017.0</td>\n",
       "      <td>3572.000000</td>\n",
       "      <td>112.700000</td>\n",
       "    </tr>\n",
       "  </tbody>\n",
       "</table>\n",
       "</div>"
      ],
      "text/plain": [
       "         Year  ChipTime_minutes  Runner_mins\n",
       "count   175.0        175.000000   175.000000\n",
       "mean   2017.0       2099.971429    41.666667\n",
       "std       0.0        935.987372    17.388009\n",
       "min    2017.0         62.000000    18.333333\n",
       "25%    2017.0       1563.000000    27.766667\n",
       "50%    2017.0       2017.000000    37.766667\n",
       "75%    2017.0       2872.000000    52.425000\n",
       "max    2017.0       3572.000000   112.700000"
      ]
     },
     "execution_count": 41,
     "metadata": {},
     "output_type": "execute_result"
    }
   ],
   "source": [
    "df2.describe(include=[np.number])"
   ]
  },
  {
   "cell_type": "code",
   "execution_count": 42,
   "metadata": {},
   "outputs": [
    {
     "data": {
      "text/plain": [
       "Text(0, 0.5, 'Run time')"
      ]
     },
     "execution_count": 42,
     "metadata": {},
     "output_type": "execute_result"
    },
    {
     "data": {
      "image/png": "[encoded data removed]",
      "text/plain": [
       "<Figure size 432x288 with 1 Axes>"
      ]
     },
     "metadata": {
      "needs_background": "light"
     },
     "output_type": "display_data"
    }
   ],
   "source": [
    "df2.boxplot(column='Runner_mins', by = 'Gender')\n",
    "plt.ylabel('Run time')"
   ]
  },
  {
   "cell_type": "code",
   "execution_count": 43,
   "metadata": {},
   "outputs": [
    {
     "data": {
      "image/png": "[encoded data removed]",
      "text/plain": [
       "<Figure size 432x288 with 1 Axes>"
      ]
     },
     "metadata": {
      "needs_background": "light"
     },
     "output_type": "display_data"
    },
    {
     "data": {
      "text/plain": [
       "<matplotlib.legend.Legend at 0x11b9f67c748>"
      ]
     },
     "execution_count": 43,
     "metadata": {},
     "output_type": "execute_result"
    },
    {
     "data": {
      "image/png": "[encoded data removed]",
      "text/plain": [
       "<Figure size 360x360 with 1 Axes>"
      ]
     },
     "metadata": {
      "needs_background": "light"
     },
     "output_type": "display_data"
    }
   ],
   "source": [
    "import seaborn as sns, numpy as np\n",
    "df2['Age_i'] = round(pd.to_numeric(df2['Age'], errors='coerce'))\n",
    "df2.dropna(how ='any', inplace = True)\n",
    "df = plt.scatter(df2['Runner_mins'], df2['Age_i'])\n",
    "df = plt.ylabel('Run time')\n",
    "df= plt.xlabel('Age')\n",
    "df = plt.show()\n",
    "\n",
    "sns.lmplot( x='Age_i', y='Runner_mins', data=df2, fit_reg=True, hue='Gender', legend=False)\n",
    "plt.legend(loc='lower right')\n"
   ]
  },
  {
   "cell_type": "code",
   "execution_count": 44,
   "metadata": {},
   "outputs": [
    {
     "data": {
      "image/png": "[encoded data removed]",
      "text/plain": [
       "<Figure size 432x288 with 1 Axes>"
      ]
     },
     "metadata": {
      "needs_background": "light"
     },
     "output_type": "display_data"
    }
   ],
   "source": [
    "import seaborn as sns, numpy as np\n",
    "x = df2['Runner_mins']\n",
    "ax = sns.distplot(x, hist=True, kde=True, rug=False, color='m', bins=25, hist_kws={'edgecolor':'black'})\n",
    "plt.show()"
   ]
  },
  {
   "cell_type": "code",
   "execution_count": 45,
   "metadata": {},
   "outputs": [
    {
     "data": {
      "text/plain": [
       "<matplotlib.legend.Legend at 0x11b9f3a6f28>"
      ]
     },
     "execution_count": 45,
     "metadata": {},
     "output_type": "execute_result"
    },
    {
     "data": {
      "image/png": "[encoded data removed]",
      "text/plain": [
       "<Figure size 432x288 with 1 Axes>"
      ]
     },
     "metadata": {
      "needs_background": "light"
     },
     "output_type": "display_data"
    }
   ],
   "source": [
    "f_fuko = df2.loc[df2['Gender']=='F']['Runner_mins']\n",
    "m_fuko = df2.loc[df2['Gender']=='M']['Runner_mins']\n",
    "sns.distplot(f_fuko, hist=True, kde=True, rug=False, hist_kws={'edgecolor':'black'}, label='Female')\n",
    "sns.distplot(m_fuko, hist=True, kde=True, rug=False, hist_kws={'edgecolor':'black'}, label='Male')\n",
    "plt.legend()"
   ]
  },
  {
   "cell_type": "code",
   "execution_count": 46,
   "metadata": {},
   "outputs": [],
   "source": [
    "from pylab import rcParams\n",
    "rcParams['figure.figsize'] = 15, 5"
   ]
  },
  {
   "cell_type": "code",
   "execution_count": 47,
   "metadata": {},
   "outputs": [
    {
     "name": "stdout",
     "output_type": "stream",
     "text": [
      "         Year                                                       \\\n",
      "        count    mean  std     min     25%     50%     75%     max   \n",
      "Gender                                                               \n",
      "F       101.0  2017.0  0.0  2017.0  2017.0  2017.0  2017.0  2017.0   \n",
      "M        67.0  2017.0  0.0  2017.0  2017.0  2017.0  2017.0  2017.0   \n",
      "\n",
      "       ChipTime_minutes               ... Runner_mins         Age_i  \\\n",
      "                  count         mean  ...         75%    max  count   \n",
      "Gender                                ...                             \n",
      "F                 101.0  2271.891089  ...   55.783333  112.7  101.0   \n",
      "M                  67.0  1818.462687  ...   36.283333  102.7   67.0   \n",
      "\n",
      "                                                           \n",
      "             mean        std  min   25%   50%   75%   max  \n",
      "Gender                                                     \n",
      "F       38.198020  12.228671  5.0  31.0  40.0  46.0  65.0  \n",
      "M       36.014925  13.791184  6.0  26.0  38.0  45.5  65.0  \n",
      "\n",
      "[2 rows x 32 columns]\n"
     ]
    }
   ],
   "source": [
    "g_stats = df2.groupby(\"Gender\", as_index=True).describe()\n",
    "print(g_stats)"
   ]
  },
  {
   "cell_type": "code",
   "execution_count": 48,
   "metadata": {},
   "outputs": [
    {
     "data": {
      "text/plain": [
       "Text(0, 0.5, 'Run time')"
      ]
     },
     "execution_count": 48,
     "metadata": {},
     "output_type": "execute_result"
    },
    {
     "data": {
      "image/png": "[encoded data removed]",
      "text/plain": [
       "<Figure size 1080x360 with 1 Axes>"
      ]
     },
     "metadata": {
      "needs_background": "light"
     },
     "output_type": "display_data"
    }
   ],
   "source": [
    "df2.boxplot(column='Runner_mins', by = 'State')\n",
    "plt.ylabel('Run time')"
   ]
  },
  {
   "cell_type": "code",
   "execution_count": 49,
   "metadata": {},
   "outputs": [
    {
     "data": {
      "text/plain": [
       "Text(0, 0.5, 'Run time')"
      ]
     },
     "execution_count": 49,
     "metadata": {},
     "output_type": "execute_result"
    },
    {
     "data": {
      "image/png": "[encoded data removed]",
      "text/plain": [
       "<Figure size 1080x360 with 1 Axes>"
      ]
     },
     "metadata": {
      "needs_background": "light"
     },
     "output_type": "display_data"
    }
   ],
   "source": [
    "df2.boxplot(column='Runner_mins', by = 'Year')\n",
    "plt.ylabel('Run time')"
   ]
  },
  {
   "cell_type": "code",
   "execution_count": 50,
   "metadata": {},
   "outputs": [],
   "source": [
    "df2.to_csv('final2017.csv')"
   ]
  },
  {
   "cell_type": "code",
   "execution_count": null,
   "metadata": {},
   "outputs": [],
   "source": []
  },
  {
   "cell_type": "code",
   "execution_count": null,
   "metadata": {},
   "outputs": [],
   "source": []
  },
  {
   "cell_type": "code",
   "execution_count": null,
   "metadata": {},
   "outputs": [],
   "source": []
  }
 ],
 "metadata": {
  "kernelspec": {
   "display_name": "Python 3",
   "language": "python",
   "name": "python3"
  },
  "language_info": {
   "codemirror_mode": {
    "name": "ipython",
    "version": 3
   },
   "file_extension": ".py",
   "mimetype": "text/x-python",
   "name": "python",
   "nbconvert_exporter": "python",
   "pygments_lexer": "ipython3",
   "version": "3.7.1"
  }
 },
 "nbformat": 4,
 "nbformat_minor": 2
}
