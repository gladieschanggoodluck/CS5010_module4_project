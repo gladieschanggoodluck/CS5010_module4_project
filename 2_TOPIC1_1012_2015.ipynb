{
 "cells": [
  {
   "cell_type": "code",
   "execution_count": 51,
   "metadata": {},
   "outputs": [],
   "source": [
    "import pandas as pd\n",
    "import numpy as np\n",
    "import matplotlib.pyplot as plt\n",
    "\n",
    "%matplotlib inline\n",
    "\n",
    "from urllib.request import urlopen\n",
    "from bs4 import BeautifulSoup\n",
    "import re"
   ]
  },
  {
   "cell_type": "code",
   "execution_count": 52,
   "metadata": {},
   "outputs": [],
   "source": [
    "url=\"https://www.hubertiming.com/results/2015MLK\" #open link\n",
    "html = urlopen(url)"
   ]
  },
  {
   "cell_type": "code",
   "execution_count": 53,
   "metadata": {},
   "outputs": [],
   "source": [
    "soup = BeautifulSoup(html)"
   ]
  },
  {
   "cell_type": "code",
   "execution_count": 54,
   "metadata": {},
   "outputs": [],
   "source": [
    "data = []\n",
    "allrows= soup.find_all(\"tr\")\n",
    "for row in allrows :\n",
    "    row_list = row.find_all(\"td\")\n",
    "    dataRow= []\n",
    "    for cell in row_list:\n",
    "        dataRow.append(cell.text)\n",
    "    data.append(dataRow)\n",
    "  \n",
    "data = data[6:] "
   ]
  },
  {
   "cell_type": "code",
   "execution_count": 55,
   "metadata": {},
   "outputs": [
    {
     "name": "stdout",
     "output_type": "stream",
     "text": [
      "['Place', 'Bib', 'Name', 'Gender', 'Age', 'City', 'State', 'Chip Time', 'Chip Pace', 'Gender Place', 'Age Group', 'Age Group Place', 'Time to Start', 'Gun Time']\n"
     ]
    }
   ],
   "source": [
    "header_list = []\n",
    "col_headers = soup.find_all('th')\n",
    "for col in col_headers:\n",
    "    header_list.append(col.text)\n",
    "print(header_list)"
   ]
  },
  {
   "cell_type": "code",
   "execution_count": 56,
   "metadata": {},
   "outputs": [],
   "source": [
    "df = pd.DataFrame(data)"
   ]
  },
  {
   "cell_type": "code",
   "execution_count": 57,
   "metadata": {},
   "outputs": [
    {
     "name": "stdout",
     "output_type": "stream",
     "text": [
      "  Place   Bib            Name Gender Age      City State Chip Time Chip Pace  \\\n",
      "0     2  1539  PHILIP QUINTON      M  15  PORTLAND    OR     15:22      5:54   \n",
      "1     3  1568      DAN FRANEK      M  49       PDX    OR     15:27      5:56   \n",
      "2     4  1386      JOE DUDMAN      M  51  PORTLAND    OR     15:36      6:00   \n",
      "3     5  1436   MICHAEL DAVIS      M  37  PORTLAND    OR     15:39      6:01   \n",
      "4     6  1451       MAX HODGE      M  15  PORTLAND    OR     15:41      6:01   \n",
      "\n",
      "  Gender Place       Age Group Age Group Place Time to Start Gun Time  \n",
      "0      2 of 83  M 20 and Under         1 of 10          0:02    15:24  \n",
      "1      3 of 83         M 40-54         1 of 17          0:01    15:28  \n",
      "2      4 of 83         M 40-54         2 of 17          0:01    15:37  \n",
      "3      5 of 83         M 21-39         2 of 45          0:03    15:42  \n",
      "4      6 of 83  M 20 and Under         2 of 10          0:00    15:41  \n"
     ]
    }
   ],
   "source": [
    "df.columns = header_list\n",
    "print(df.head())"
   ]
  },
  {
   "cell_type": "code",
   "execution_count": 58,
   "metadata": {},
   "outputs": [
    {
     "data": {
      "text/plain": [
       "(213, 14)"
      ]
     },
     "execution_count": 58,
     "metadata": {},
     "output_type": "execute_result"
    }
   ],
   "source": [
    "df.shape"
   ]
  },
  {
   "cell_type": "code",
   "execution_count": 59,
   "metadata": {},
   "outputs": [
    {
     "data": {
      "text/plain": [
       "(213, 14)"
      ]
     },
     "execution_count": 59,
     "metadata": {},
     "output_type": "execute_result"
    }
   ],
   "source": [
    "df2 = df.dropna(how='any')\n",
    "df.shape"
   ]
  },
  {
   "cell_type": "code",
   "execution_count": 60,
   "metadata": {},
   "outputs": [],
   "source": [
    "df2['Year'] = 2015"
   ]
  },
  {
   "cell_type": "code",
   "execution_count": 62,
   "metadata": {},
   "outputs": [],
   "source": [
    "df2['Chip Time'] = df2['Chip Time'].apply(lambda x : x.rjust(5, '0').rjust(6, ':').rjust(8, '0'))\n",
    "df2['ChipTime_minutes'] = df['Chip Time'].str.split(':').apply(lambda x: int(x[0]) * 60 + int(x[1]))"
   ]
  },
  {
   "cell_type": "code",
   "execution_count": 63,
   "metadata": {},
   "outputs": [],
   "source": [
    "time_list = df2['Chip Time'].tolist()\n",
    "\n",
    "# You can use a for loop to convert 'Chip Time' to minutes\n",
    "\n",
    "time_mins = []\n",
    "for i in time_list:\n",
    "    h, m, s = i.split(':')\n",
    "    math = (int(h) * 3600 + int(m) * 60 + int(s))/60\n",
    "    time_mins.append(math)\n",
    "#print(time_mins)"
   ]
  },
  {
   "cell_type": "code",
   "execution_count": 64,
   "metadata": {},
   "outputs": [
    {
     "data": {
      "text/html": [
       "<div>\n",
       "<style scoped>\n",
       "    .dataframe tbody tr th:only-of-type {\n",
       "        vertical-align: middle;\n",
       "    }\n",
       "\n",
       "    .dataframe tbody tr th {\n",
       "        vertical-align: top;\n",
       "    }\n",
       "\n",
       "    .dataframe thead th {\n",
       "        text-align: right;\n",
       "    }\n",
       "</style>\n",
       "<table border=\"1\" class=\"dataframe\">\n",
       "  <thead>\n",
       "    <tr style=\"text-align: right;\">\n",
       "      <th></th>\n",
       "      <th>Place</th>\n",
       "      <th>Bib</th>\n",
       "      <th>Name</th>\n",
       "      <th>Gender</th>\n",
       "      <th>Age</th>\n",
       "      <th>City</th>\n",
       "      <th>State</th>\n",
       "      <th>Chip Time</th>\n",
       "      <th>Chip Pace</th>\n",
       "      <th>Gender Place</th>\n",
       "      <th>Age Group</th>\n",
       "      <th>Age Group Place</th>\n",
       "      <th>Time to Start</th>\n",
       "      <th>Gun Time</th>\n",
       "      <th>Year</th>\n",
       "      <th>ChipTime_minutes</th>\n",
       "      <th>Runner_mins</th>\n",
       "    </tr>\n",
       "  </thead>\n",
       "  <tbody>\n",
       "    <tr>\n",
       "      <td>0</td>\n",
       "      <td>2</td>\n",
       "      <td>1539</td>\n",
       "      <td>PHILIP QUINTON</td>\n",
       "      <td>M</td>\n",
       "      <td>15</td>\n",
       "      <td>PORTLAND</td>\n",
       "      <td>OR</td>\n",
       "      <td>00:15:22</td>\n",
       "      <td>5:54</td>\n",
       "      <td>2 of 83</td>\n",
       "      <td>M 20 and Under</td>\n",
       "      <td>1 of 10</td>\n",
       "      <td>0:02</td>\n",
       "      <td>15:24</td>\n",
       "      <td>2015</td>\n",
       "      <td>922</td>\n",
       "      <td>15.366667</td>\n",
       "    </tr>\n",
       "    <tr>\n",
       "      <td>1</td>\n",
       "      <td>3</td>\n",
       "      <td>1568</td>\n",
       "      <td>DAN FRANEK</td>\n",
       "      <td>M</td>\n",
       "      <td>49</td>\n",
       "      <td>PDX</td>\n",
       "      <td>OR</td>\n",
       "      <td>00:15:27</td>\n",
       "      <td>5:56</td>\n",
       "      <td>3 of 83</td>\n",
       "      <td>M 40-54</td>\n",
       "      <td>1 of 17</td>\n",
       "      <td>0:01</td>\n",
       "      <td>15:28</td>\n",
       "      <td>2015</td>\n",
       "      <td>927</td>\n",
       "      <td>15.450000</td>\n",
       "    </tr>\n",
       "    <tr>\n",
       "      <td>2</td>\n",
       "      <td>4</td>\n",
       "      <td>1386</td>\n",
       "      <td>JOE DUDMAN</td>\n",
       "      <td>M</td>\n",
       "      <td>51</td>\n",
       "      <td>PORTLAND</td>\n",
       "      <td>OR</td>\n",
       "      <td>00:15:36</td>\n",
       "      <td>6:00</td>\n",
       "      <td>4 of 83</td>\n",
       "      <td>M 40-54</td>\n",
       "      <td>2 of 17</td>\n",
       "      <td>0:01</td>\n",
       "      <td>15:37</td>\n",
       "      <td>2015</td>\n",
       "      <td>936</td>\n",
       "      <td>15.600000</td>\n",
       "    </tr>\n",
       "    <tr>\n",
       "      <td>3</td>\n",
       "      <td>5</td>\n",
       "      <td>1436</td>\n",
       "      <td>MICHAEL DAVIS</td>\n",
       "      <td>M</td>\n",
       "      <td>37</td>\n",
       "      <td>PORTLAND</td>\n",
       "      <td>OR</td>\n",
       "      <td>00:15:39</td>\n",
       "      <td>6:01</td>\n",
       "      <td>5 of 83</td>\n",
       "      <td>M 21-39</td>\n",
       "      <td>2 of 45</td>\n",
       "      <td>0:03</td>\n",
       "      <td>15:42</td>\n",
       "      <td>2015</td>\n",
       "      <td>939</td>\n",
       "      <td>15.650000</td>\n",
       "    </tr>\n",
       "    <tr>\n",
       "      <td>4</td>\n",
       "      <td>6</td>\n",
       "      <td>1451</td>\n",
       "      <td>MAX HODGE</td>\n",
       "      <td>M</td>\n",
       "      <td>15</td>\n",
       "      <td>PORTLAND</td>\n",
       "      <td>OR</td>\n",
       "      <td>00:15:41</td>\n",
       "      <td>6:01</td>\n",
       "      <td>6 of 83</td>\n",
       "      <td>M 20 and Under</td>\n",
       "      <td>2 of 10</td>\n",
       "      <td>0:00</td>\n",
       "      <td>15:41</td>\n",
       "      <td>2015</td>\n",
       "      <td>941</td>\n",
       "      <td>15.683333</td>\n",
       "    </tr>\n",
       "  </tbody>\n",
       "</table>\n",
       "</div>"
      ],
      "text/plain": [
       "  Place   Bib            Name Gender Age      City State Chip Time Chip Pace  \\\n",
       "0     2  1539  PHILIP QUINTON      M  15  PORTLAND    OR  00:15:22      5:54   \n",
       "1     3  1568      DAN FRANEK      M  49       PDX    OR  00:15:27      5:56   \n",
       "2     4  1386      JOE DUDMAN      M  51  PORTLAND    OR  00:15:36      6:00   \n",
       "3     5  1436   MICHAEL DAVIS      M  37  PORTLAND    OR  00:15:39      6:01   \n",
       "4     6  1451       MAX HODGE      M  15  PORTLAND    OR  00:15:41      6:01   \n",
       "\n",
       "  Gender Place       Age Group Age Group Place Time to Start Gun Time  Year  \\\n",
       "0      2 of 83  M 20 and Under         1 of 10          0:02    15:24  2015   \n",
       "1      3 of 83         M 40-54         1 of 17          0:01    15:28  2015   \n",
       "2      4 of 83         M 40-54         2 of 17          0:01    15:37  2015   \n",
       "3      5 of 83         M 21-39         2 of 45          0:03    15:42  2015   \n",
       "4      6 of 83  M 20 and Under         2 of 10          0:00    15:41  2015   \n",
       "\n",
       "   ChipTime_minutes  Runner_mins  \n",
       "0               922    15.366667  \n",
       "1               927    15.450000  \n",
       "2               936    15.600000  \n",
       "3               939    15.650000  \n",
       "4               941    15.683333  "
      ]
     },
     "execution_count": 64,
     "metadata": {},
     "output_type": "execute_result"
    }
   ],
   "source": [
    "df2['Runner_mins'] = time_mins\n",
    "df2.head(5)"
   ]
  },
  {
   "cell_type": "code",
   "execution_count": 65,
   "metadata": {},
   "outputs": [
    {
     "data": {
      "text/plain": [
       "Text(0.5, 1.0, 'Comparsion of average minutes run by male and female')"
      ]
     },
     "execution_count": 65,
     "metadata": {},
     "output_type": "execute_result"
    },
    {
     "data": {
      "image/png": "[encoded data removed]",
      "text/plain": [
       "<Figure size 432x288 with 1 Axes>"
      ]
     },
     "metadata": {
      "needs_background": "light"
     },
     "output_type": "display_data"
    }
   ],
   "source": [
    "plt.scatter(df2['Gender'], df2['Runner_mins'])\n",
    "plt.xlabel('Gender')\n",
    "plt.ylabel('Runner_mins')\n",
    "plt.title(\"Comparsion of average minutes run by male and female\") "
   ]
  },
  {
   "cell_type": "code",
   "execution_count": 66,
   "metadata": {},
   "outputs": [
    {
     "data": {
      "text/html": [
       "<div>\n",
       "<style scoped>\n",
       "    .dataframe tbody tr th:only-of-type {\n",
       "        vertical-align: middle;\n",
       "    }\n",
       "\n",
       "    .dataframe tbody tr th {\n",
       "        vertical-align: top;\n",
       "    }\n",
       "\n",
       "    .dataframe thead th {\n",
       "        text-align: right;\n",
       "    }\n",
       "</style>\n",
       "<table border=\"1\" class=\"dataframe\">\n",
       "  <thead>\n",
       "    <tr style=\"text-align: right;\">\n",
       "      <th></th>\n",
       "      <th>Year</th>\n",
       "      <th>ChipTime_minutes</th>\n",
       "      <th>Runner_mins</th>\n",
       "    </tr>\n",
       "  </thead>\n",
       "  <tbody>\n",
       "    <tr>\n",
       "      <td>count</td>\n",
       "      <td>213.0</td>\n",
       "      <td>213.000000</td>\n",
       "      <td>213.000000</td>\n",
       "    </tr>\n",
       "    <tr>\n",
       "      <td>mean</td>\n",
       "      <td>2015.0</td>\n",
       "      <td>1962.469484</td>\n",
       "      <td>34.427856</td>\n",
       "    </tr>\n",
       "    <tr>\n",
       "      <td>std</td>\n",
       "      <td>0.0</td>\n",
       "      <td>759.310838</td>\n",
       "      <td>13.231640</td>\n",
       "    </tr>\n",
       "    <tr>\n",
       "      <td>min</td>\n",
       "      <td>2015.0</td>\n",
       "      <td>72.000000</td>\n",
       "      <td>15.366667</td>\n",
       "    </tr>\n",
       "    <tr>\n",
       "      <td>25%</td>\n",
       "      <td>2015.0</td>\n",
       "      <td>1449.000000</td>\n",
       "      <td>24.800000</td>\n",
       "    </tr>\n",
       "    <tr>\n",
       "      <td>50%</td>\n",
       "      <td>2015.0</td>\n",
       "      <td>1848.000000</td>\n",
       "      <td>30.950000</td>\n",
       "    </tr>\n",
       "    <tr>\n",
       "      <td>75%</td>\n",
       "      <td>2015.0</td>\n",
       "      <td>2451.000000</td>\n",
       "      <td>42.850000</td>\n",
       "    </tr>\n",
       "    <tr>\n",
       "      <td>max</td>\n",
       "      <td>2015.0</td>\n",
       "      <td>3527.000000</td>\n",
       "      <td>76.216667</td>\n",
       "    </tr>\n",
       "  </tbody>\n",
       "</table>\n",
       "</div>"
      ],
      "text/plain": [
       "         Year  ChipTime_minutes  Runner_mins\n",
       "count   213.0        213.000000   213.000000\n",
       "mean   2015.0       1962.469484    34.427856\n",
       "std       0.0        759.310838    13.231640\n",
       "min    2015.0         72.000000    15.366667\n",
       "25%    2015.0       1449.000000    24.800000\n",
       "50%    2015.0       1848.000000    30.950000\n",
       "75%    2015.0       2451.000000    42.850000\n",
       "max    2015.0       3527.000000    76.216667"
      ]
     },
     "execution_count": 66,
     "metadata": {},
     "output_type": "execute_result"
    }
   ],
   "source": [
    "df2.describe(include=[np.number])"
   ]
  },
  {
   "cell_type": "code",
   "execution_count": 67,
   "metadata": {},
   "outputs": [
    {
     "data": {
      "text/plain": [
       "Text(0, 0.5, 'Run time')"
      ]
     },
     "execution_count": 67,
     "metadata": {},
     "output_type": "execute_result"
    },
    {
     "data": {
      "image/png": "[encoded data removed]",
      "text/plain": [
       "<Figure size 432x288 with 1 Axes>"
      ]
     },
     "metadata": {
      "needs_background": "light"
     },
     "output_type": "display_data"
    }
   ],
   "source": [
    "df2.boxplot(column='Runner_mins', by = 'Gender')\n",
    "plt.ylabel('Run time')"
   ]
  },
  {
   "cell_type": "code",
   "execution_count": 68,
   "metadata": {},
   "outputs": [
    {
     "data": {
      "image/png": "[encoded data removed]",
      "text/plain": [
       "<Figure size 432x288 with 1 Axes>"
      ]
     },
     "metadata": {
      "needs_background": "light"
     },
     "output_type": "display_data"
    },
    {
     "data": {
      "text/plain": [
       "<matplotlib.legend.Legend at 0x1fc3436e940>"
      ]
     },
     "execution_count": 68,
     "metadata": {},
     "output_type": "execute_result"
    },
    {
     "data": {
      "image/png": "[encoded data removed]",
      "text/plain": [
       "<Figure size 360x360 with 1 Axes>"
      ]
     },
     "metadata": {
      "needs_background": "light"
     },
     "output_type": "display_data"
    }
   ],
   "source": [
    "import seaborn as sns, numpy as np\n",
    "df2['Age_i'] = round(pd.to_numeric(df2['Age'], errors='coerce'))\n",
    "df2.dropna(how ='any', inplace = True)\n",
    "df = plt.scatter(df2['Runner_mins'], df2['Age_i'])\n",
    "df = plt.ylabel('Run time')\n",
    "df= plt.xlabel('Age')\n",
    "df = plt.show()\n",
    "\n",
    "sns.lmplot( x='Age_i', y='Runner_mins', data=df2, fit_reg=True, hue='Gender', legend=False)\n",
    "plt.legend(loc='lower right')"
   ]
  },
  {
   "cell_type": "code",
   "execution_count": 69,
   "metadata": {},
   "outputs": [
    {
     "data": {
      "image/png": "[encoded data removed]",
      "text/plain": [
       "<Figure size 432x288 with 1 Axes>"
      ]
     },
     "metadata": {
      "needs_background": "light"
     },
     "output_type": "display_data"
    }
   ],
   "source": [
    "import seaborn as sns, numpy as np\n",
    "x = df2['Runner_mins']\n",
    "ax = sns.distplot(x, hist=True, kde=True, rug=False, color='m', bins=25, hist_kws={'edgecolor':'black'})\n",
    "plt.show()"
   ]
  },
  {
   "cell_type": "code",
   "execution_count": 70,
   "metadata": {},
   "outputs": [
    {
     "data": {
      "text/plain": [
       "<matplotlib.legend.Legend at 0x1fc3541bb38>"
      ]
     },
     "execution_count": 70,
     "metadata": {},
     "output_type": "execute_result"
    },
    {
     "data": {
      "image/png": "[encoded data removed]",
      "text/plain": [
       "<Figure size 432x288 with 1 Axes>"
      ]
     },
     "metadata": {
      "needs_background": "light"
     },
     "output_type": "display_data"
    }
   ],
   "source": [
    "f_fuko = df2.loc[df2['Gender']=='F']['Runner_mins']\n",
    "m_fuko = df2.loc[df2['Gender']=='M']['Runner_mins']\n",
    "sns.distplot(f_fuko, hist=True, kde=True, rug=False, hist_kws={'edgecolor':'black'}, label='Female')\n",
    "sns.distplot(m_fuko, hist=True, kde=True, rug=False, hist_kws={'edgecolor':'black'}, label='Male')\n",
    "plt.legend()"
   ]
  },
  {
   "cell_type": "code",
   "execution_count": 71,
   "metadata": {},
   "outputs": [],
   "source": [
    "from pylab import rcParams\n",
    "rcParams['figure.figsize'] = 15, 5"
   ]
  },
  {
   "cell_type": "code",
   "execution_count": 72,
   "metadata": {},
   "outputs": [
    {
     "name": "stdout",
     "output_type": "stream",
     "text": [
      "         Year                                                       \\\n",
      "        count    mean  std     min     25%     50%     75%     max   \n",
      "Gender                                                               \n",
      "F       131.0  2015.0  0.0  2015.0  2015.0  2015.0  2015.0  2015.0   \n",
      "M        82.0  2015.0  0.0  2015.0  2015.0  2015.0  2015.0  2015.0   \n",
      "\n",
      "       ChipTime_minutes               ... Runner_mins             Age_i  \\\n",
      "                  count         mean  ...         75%        max  count   \n",
      "Gender                                ...                                 \n",
      "F                 131.0  2081.702290  ...   48.616667  76.216667  131.0   \n",
      "M                  82.0  1771.987805  ...   34.316667  58.733333   82.0   \n",
      "\n",
      "                                                             \n",
      "             mean        std   min   25%   50%    75%   max  \n",
      "Gender                                                       \n",
      "F       39.068702  14.400957  10.0  30.0  38.0  48.00  75.0  \n",
      "M       38.134146  15.251604   6.0  30.0  35.0  48.75  83.0  \n",
      "\n",
      "[2 rows x 32 columns]\n"
     ]
    }
   ],
   "source": [
    "g_stats = df2.groupby(\"Gender\", as_index=True).describe()\n",
    "print(g_stats)"
   ]
  },
  {
   "cell_type": "code",
   "execution_count": 73,
   "metadata": {},
   "outputs": [
    {
     "data": {
      "text/plain": [
       "Text(0, 0.5, 'Run time')"
      ]
     },
     "execution_count": 73,
     "metadata": {},
     "output_type": "execute_result"
    },
    {
     "data": {
      "image/png": "[encoded data removed]",
      "text/plain": [
       "<Figure size 1080x360 with 1 Axes>"
      ]
     },
     "metadata": {
      "needs_background": "light"
     },
     "output_type": "display_data"
    }
   ],
   "source": [
    "df2.boxplot(column='Runner_mins', by = 'State')\n",
    "plt.ylabel('Run time')"
   ]
  },
  {
   "cell_type": "code",
   "execution_count": 74,
   "metadata": {},
   "outputs": [
    {
     "data": {
      "text/plain": [
       "Text(0, 0.5, 'Run time')"
      ]
     },
     "execution_count": 74,
     "metadata": {},
     "output_type": "execute_result"
    },
    {
     "data": {
      "image/png": "[encoded data removed]",
      "text/plain": [
       "<Figure size 1080x360 with 1 Axes>"
      ]
     },
     "metadata": {
      "needs_background": "light"
     },
     "output_type": "display_data"
    }
   ],
   "source": [
    "df2.boxplot(column='Runner_mins', by = 'Year')\n",
    "plt.ylabel('Run time')"
   ]
  },
  {
   "cell_type": "code",
   "execution_count": 75,
   "metadata": {},
   "outputs": [],
   "source": [
    "df2.to_csv('final2015.csv')"
   ]
  },
  {
   "cell_type": "code",
   "execution_count": null,
   "metadata": {},
   "outputs": [],
   "source": []
  },
  {
   "cell_type": "code",
   "execution_count": null,
   "metadata": {},
   "outputs": [],
   "source": []
  },
  {
   "cell_type": "code",
   "execution_count": null,
   "metadata": {},
   "outputs": [],
   "source": []
  }
 ],
 "metadata": {
  "kernelspec": {
   "display_name": "Python 3",
   "language": "python",
   "name": "python3"
  },
  "language_info": {
   "codemirror_mode": {
    "name": "ipython",
    "version": 3
   },
   "file_extension": ".py",
   "mimetype": "text/x-python",
   "name": "python",
   "nbconvert_exporter": "python",
   "pygments_lexer": "ipython3",
   "version": "3.7.1"
  }
 },
 "nbformat": 4,
 "nbformat_minor": 2
}
