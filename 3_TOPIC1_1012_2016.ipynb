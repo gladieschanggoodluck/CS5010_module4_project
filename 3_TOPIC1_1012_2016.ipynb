{
 "cells": [
  {
   "cell_type": "code",
   "execution_count": 26,
   "metadata": {},
   "outputs": [],
   "source": [
    "import pandas as pd\n",
    "import numpy as np\n",
    "import matplotlib.pyplot as plt\n",
    "\n",
    "%matplotlib inline\n",
    "\n",
    "from urllib.request import urlopen\n",
    "from bs4 import BeautifulSoup\n",
    "import re"
   ]
  },
  {
   "cell_type": "code",
   "execution_count": 27,
   "metadata": {},
   "outputs": [],
   "source": [
    "url=\"https://www.hubertiming.com/results/2016MLK\" #open link\n",
    "html = urlopen(url)"
   ]
  },
  {
   "cell_type": "code",
   "execution_count": 28,
   "metadata": {},
   "outputs": [],
   "source": [
    "soup = BeautifulSoup(html)"
   ]
  },
  {
   "cell_type": "code",
   "execution_count": 29,
   "metadata": {},
   "outputs": [],
   "source": [
    "data = []\n",
    "allrows= soup.find_all(\"tr\")\n",
    "for row in allrows :\n",
    "    row_list = row.find_all(\"td\")\n",
    "    dataRow= []\n",
    "    for cell in row_list:\n",
    "        dataRow.append(cell.text)\n",
    "    data.append(dataRow)\n",
    "  \n",
    "data = data[6:] "
   ]
  },
  {
   "cell_type": "code",
   "execution_count": 30,
   "metadata": {},
   "outputs": [
    {
     "name": "stdout",
     "output_type": "stream",
     "text": [
      "['Place', 'Bib', 'Name', 'Gender', 'Age', 'City', 'State', 'Chip Time', 'Chip Pace', 'Gender Place', 'Age Group', 'Age Group Place', 'Time to Start', 'Gun Time']\n"
     ]
    }
   ],
   "source": [
    "header_list = []\n",
    "col_headers = soup.find_all('th')\n",
    "for col in col_headers:\n",
    "    header_list.append(col.text)\n",
    "print(header_list)"
   ]
  },
  {
   "cell_type": "code",
   "execution_count": 31,
   "metadata": {},
   "outputs": [],
   "source": [
    "df = pd.DataFrame(data)"
   ]
  },
  {
   "cell_type": "code",
   "execution_count": 32,
   "metadata": {},
   "outputs": [
    {
     "name": "stdout",
     "output_type": "stream",
     "text": [
      "  Place  Bib              Name Gender Age       City State Chip Time  \\\n",
      "0     2  267  WILFREDO BENITEZ      M  25   PORTLAND    OR     17:08   \n",
      "1     3  253        DAN FRANEK      M  50        PDX    OR     17:33   \n",
      "2     4  236        SKY NELSON      M  22   PORTLAND    OR     19:01   \n",
      "3     5  249       ARI ELLIOTT      M  17  VANCOUVER    WA     19:16   \n",
      "4     6  160      STEPHEN MERZ      M  35   PORTLAND    OR     19:34   \n",
      "\n",
      "  Chip Pace Gender Place       Age Group Age Group Place Time to Start  \\\n",
      "0      5:31      2 of 40         M 21-39         2 of 15          0:05   \n",
      "1      5:39      3 of 40         M 40-54         1 of 12          0:04   \n",
      "2      6:08      4 of 40         M 21-39         3 of 15          0:15   \n",
      "3      6:13      5 of 40  M 20 and Under          1 of 6          0:06   \n",
      "4      6:18      6 of 40         M 21-39         4 of 15          0:06   \n",
      "\n",
      "  Gun Time  \n",
      "0    17:13  \n",
      "1    17:37  \n",
      "2    19:16  \n",
      "3    19:22  \n",
      "4    19:40  \n"
     ]
    }
   ],
   "source": [
    "df.columns = header_list\n",
    "print(df.head())"
   ]
  },
  {
   "cell_type": "code",
   "execution_count": 33,
   "metadata": {},
   "outputs": [
    {
     "data": {
      "text/plain": [
       "(115, 14)"
      ]
     },
     "execution_count": 33,
     "metadata": {},
     "output_type": "execute_result"
    }
   ],
   "source": [
    "df.shape"
   ]
  },
  {
   "cell_type": "code",
   "execution_count": 34,
   "metadata": {},
   "outputs": [
    {
     "data": {
      "text/plain": [
       "(115, 14)"
      ]
     },
     "execution_count": 34,
     "metadata": {},
     "output_type": "execute_result"
    }
   ],
   "source": [
    "df2 = df.dropna(how='any')\n",
    "df.shape"
   ]
  },
  {
   "cell_type": "code",
   "execution_count": 35,
   "metadata": {},
   "outputs": [],
   "source": [
    "df2['Year'] = 2016"
   ]
  },
  {
   "cell_type": "code",
   "execution_count": 36,
   "metadata": {},
   "outputs": [],
   "source": [
    "df2['Chip Time'] = df2['Chip Time'].apply(lambda x : x.rjust(5, '0').rjust(6, ':').rjust(8, '0'))\n",
    "df2['ChipTime_minutes'] = df['Chip Time'].str.split(':').apply(lambda x: int(x[0]) * 60 + int(x[1]))"
   ]
  },
  {
   "cell_type": "code",
   "execution_count": 37,
   "metadata": {},
   "outputs": [],
   "source": [
    "time_list = df2['Chip Time'].tolist()\n",
    "\n",
    "# You can use a for loop to convert 'Chip Time' to minutes\n",
    "\n",
    "time_mins = []\n",
    "for i in time_list:\n",
    "    h, m, s = i.split(':')\n",
    "    math = (int(h) * 3600 + int(m) * 60 + int(s))/60\n",
    "    time_mins.append(math)\n",
    "#print(time_mins)"
   ]
  },
  {
   "cell_type": "code",
   "execution_count": 38,
   "metadata": {},
   "outputs": [
    {
     "data": {
      "text/html": [
       "<div>\n",
       "<style scoped>\n",
       "    .dataframe tbody tr th:only-of-type {\n",
       "        vertical-align: middle;\n",
       "    }\n",
       "\n",
       "    .dataframe tbody tr th {\n",
       "        vertical-align: top;\n",
       "    }\n",
       "\n",
       "    .dataframe thead th {\n",
       "        text-align: right;\n",
       "    }\n",
       "</style>\n",
       "<table border=\"1\" class=\"dataframe\">\n",
       "  <thead>\n",
       "    <tr style=\"text-align: right;\">\n",
       "      <th></th>\n",
       "      <th>Place</th>\n",
       "      <th>Bib</th>\n",
       "      <th>Name</th>\n",
       "      <th>Gender</th>\n",
       "      <th>Age</th>\n",
       "      <th>City</th>\n",
       "      <th>State</th>\n",
       "      <th>Chip Time</th>\n",
       "      <th>Chip Pace</th>\n",
       "      <th>Gender Place</th>\n",
       "      <th>Age Group</th>\n",
       "      <th>Age Group Place</th>\n",
       "      <th>Time to Start</th>\n",
       "      <th>Gun Time</th>\n",
       "      <th>Year</th>\n",
       "      <th>ChipTime_minutes</th>\n",
       "      <th>Runner_mins</th>\n",
       "    </tr>\n",
       "  </thead>\n",
       "  <tbody>\n",
       "    <tr>\n",
       "      <td>0</td>\n",
       "      <td>2</td>\n",
       "      <td>267</td>\n",
       "      <td>WILFREDO BENITEZ</td>\n",
       "      <td>M</td>\n",
       "      <td>25</td>\n",
       "      <td>PORTLAND</td>\n",
       "      <td>OR</td>\n",
       "      <td>00:17:08</td>\n",
       "      <td>5:31</td>\n",
       "      <td>2 of 40</td>\n",
       "      <td>M 21-39</td>\n",
       "      <td>2 of 15</td>\n",
       "      <td>0:05</td>\n",
       "      <td>17:13</td>\n",
       "      <td>2016</td>\n",
       "      <td>1028</td>\n",
       "      <td>17.133333</td>\n",
       "    </tr>\n",
       "    <tr>\n",
       "      <td>1</td>\n",
       "      <td>3</td>\n",
       "      <td>253</td>\n",
       "      <td>DAN FRANEK</td>\n",
       "      <td>M</td>\n",
       "      <td>50</td>\n",
       "      <td>PDX</td>\n",
       "      <td>OR</td>\n",
       "      <td>00:17:33</td>\n",
       "      <td>5:39</td>\n",
       "      <td>3 of 40</td>\n",
       "      <td>M 40-54</td>\n",
       "      <td>1 of 12</td>\n",
       "      <td>0:04</td>\n",
       "      <td>17:37</td>\n",
       "      <td>2016</td>\n",
       "      <td>1053</td>\n",
       "      <td>17.550000</td>\n",
       "    </tr>\n",
       "    <tr>\n",
       "      <td>2</td>\n",
       "      <td>4</td>\n",
       "      <td>236</td>\n",
       "      <td>SKY NELSON</td>\n",
       "      <td>M</td>\n",
       "      <td>22</td>\n",
       "      <td>PORTLAND</td>\n",
       "      <td>OR</td>\n",
       "      <td>00:19:01</td>\n",
       "      <td>6:08</td>\n",
       "      <td>4 of 40</td>\n",
       "      <td>M 21-39</td>\n",
       "      <td>3 of 15</td>\n",
       "      <td>0:15</td>\n",
       "      <td>19:16</td>\n",
       "      <td>2016</td>\n",
       "      <td>1141</td>\n",
       "      <td>19.016667</td>\n",
       "    </tr>\n",
       "    <tr>\n",
       "      <td>3</td>\n",
       "      <td>5</td>\n",
       "      <td>249</td>\n",
       "      <td>ARI ELLIOTT</td>\n",
       "      <td>M</td>\n",
       "      <td>17</td>\n",
       "      <td>VANCOUVER</td>\n",
       "      <td>WA</td>\n",
       "      <td>00:19:16</td>\n",
       "      <td>6:13</td>\n",
       "      <td>5 of 40</td>\n",
       "      <td>M 20 and Under</td>\n",
       "      <td>1 of 6</td>\n",
       "      <td>0:06</td>\n",
       "      <td>19:22</td>\n",
       "      <td>2016</td>\n",
       "      <td>1156</td>\n",
       "      <td>19.266667</td>\n",
       "    </tr>\n",
       "    <tr>\n",
       "      <td>4</td>\n",
       "      <td>6</td>\n",
       "      <td>160</td>\n",
       "      <td>STEPHEN MERZ</td>\n",
       "      <td>M</td>\n",
       "      <td>35</td>\n",
       "      <td>PORTLAND</td>\n",
       "      <td>OR</td>\n",
       "      <td>00:19:34</td>\n",
       "      <td>6:18</td>\n",
       "      <td>6 of 40</td>\n",
       "      <td>M 21-39</td>\n",
       "      <td>4 of 15</td>\n",
       "      <td>0:06</td>\n",
       "      <td>19:40</td>\n",
       "      <td>2016</td>\n",
       "      <td>1174</td>\n",
       "      <td>19.566667</td>\n",
       "    </tr>\n",
       "  </tbody>\n",
       "</table>\n",
       "</div>"
      ],
      "text/plain": [
       "  Place  Bib              Name Gender Age       City State Chip Time  \\\n",
       "0     2  267  WILFREDO BENITEZ      M  25   PORTLAND    OR  00:17:08   \n",
       "1     3  253        DAN FRANEK      M  50        PDX    OR  00:17:33   \n",
       "2     4  236        SKY NELSON      M  22   PORTLAND    OR  00:19:01   \n",
       "3     5  249       ARI ELLIOTT      M  17  VANCOUVER    WA  00:19:16   \n",
       "4     6  160      STEPHEN MERZ      M  35   PORTLAND    OR  00:19:34   \n",
       "\n",
       "  Chip Pace Gender Place       Age Group Age Group Place Time to Start  \\\n",
       "0      5:31      2 of 40         M 21-39         2 of 15          0:05   \n",
       "1      5:39      3 of 40         M 40-54         1 of 12          0:04   \n",
       "2      6:08      4 of 40         M 21-39         3 of 15          0:15   \n",
       "3      6:13      5 of 40  M 20 and Under          1 of 6          0:06   \n",
       "4      6:18      6 of 40         M 21-39         4 of 15          0:06   \n",
       "\n",
       "  Gun Time  Year  ChipTime_minutes  Runner_mins  \n",
       "0    17:13  2016              1028    17.133333  \n",
       "1    17:37  2016              1053    17.550000  \n",
       "2    19:16  2016              1141    19.016667  \n",
       "3    19:22  2016              1156    19.266667  \n",
       "4    19:40  2016              1174    19.566667  "
      ]
     },
     "execution_count": 38,
     "metadata": {},
     "output_type": "execute_result"
    }
   ],
   "source": [
    "df2['Runner_mins'] = time_mins\n",
    "df2.head(5)"
   ]
  },
  {
   "cell_type": "code",
   "execution_count": 39,
   "metadata": {},
   "outputs": [
    {
     "data": {
      "text/plain": [
       "Text(0.5, 1.0, 'Comparsion of average minutes run by male and female')"
      ]
     },
     "execution_count": 39,
     "metadata": {},
     "output_type": "execute_result"
    },
    {
     "data": {
      "image/png": "[encoded data removed]",
      "text/plain": [
       "<Figure size 432x288 with 1 Axes>"
      ]
     },
     "metadata": {
      "needs_background": "light"
     },
     "output_type": "display_data"
    }
   ],
   "source": [
    "plt.scatter(df2['Gender'], df2['Runner_mins'])\n",
    "plt.xlabel('Gender')\n",
    "plt.ylabel('Runner_mins')\n",
    "plt.title(\"Comparsion of average minutes run by male and female\") "
   ]
  },
  {
   "cell_type": "code",
   "execution_count": 40,
   "metadata": {},
   "outputs": [
    {
     "data": {
      "text/html": [
       "<div>\n",
       "<style scoped>\n",
       "    .dataframe tbody tr th:only-of-type {\n",
       "        vertical-align: middle;\n",
       "    }\n",
       "\n",
       "    .dataframe tbody tr th {\n",
       "        vertical-align: top;\n",
       "    }\n",
       "\n",
       "    .dataframe thead th {\n",
       "        text-align: right;\n",
       "    }\n",
       "</style>\n",
       "<table border=\"1\" class=\"dataframe\">\n",
       "  <thead>\n",
       "    <tr style=\"text-align: right;\">\n",
       "      <th></th>\n",
       "      <th>Year</th>\n",
       "      <th>ChipTime_minutes</th>\n",
       "      <th>Runner_mins</th>\n",
       "    </tr>\n",
       "  </thead>\n",
       "  <tbody>\n",
       "    <tr>\n",
       "      <td>count</td>\n",
       "      <td>115.0</td>\n",
       "      <td>115.000000</td>\n",
       "      <td>115.000000</td>\n",
       "    </tr>\n",
       "    <tr>\n",
       "      <td>mean</td>\n",
       "      <td>2016.0</td>\n",
       "      <td>1998.556522</td>\n",
       "      <td>38.348696</td>\n",
       "    </tr>\n",
       "    <tr>\n",
       "      <td>std</td>\n",
       "      <td>0.0</td>\n",
       "      <td>872.896903</td>\n",
       "      <td>13.701372</td>\n",
       "    </tr>\n",
       "    <tr>\n",
       "      <td>min</td>\n",
       "      <td>2016.0</td>\n",
       "      <td>60.000000</td>\n",
       "      <td>17.133333</td>\n",
       "    </tr>\n",
       "    <tr>\n",
       "      <td>25%</td>\n",
       "      <td>2016.0</td>\n",
       "      <td>1526.500000</td>\n",
       "      <td>26.791667</td>\n",
       "    </tr>\n",
       "    <tr>\n",
       "      <td>50%</td>\n",
       "      <td>2016.0</td>\n",
       "      <td>1975.000000</td>\n",
       "      <td>34.766667</td>\n",
       "    </tr>\n",
       "    <tr>\n",
       "      <td>75%</td>\n",
       "      <td>2016.0</td>\n",
       "      <td>2643.500000</td>\n",
       "      <td>49.750000</td>\n",
       "    </tr>\n",
       "    <tr>\n",
       "      <td>max</td>\n",
       "      <td>2016.0</td>\n",
       "      <td>3571.000000</td>\n",
       "      <td>72.050000</td>\n",
       "    </tr>\n",
       "  </tbody>\n",
       "</table>\n",
       "</div>"
      ],
      "text/plain": [
       "         Year  ChipTime_minutes  Runner_mins\n",
       "count   115.0        115.000000   115.000000\n",
       "mean   2016.0       1998.556522    38.348696\n",
       "std       0.0        872.896903    13.701372\n",
       "min    2016.0         60.000000    17.133333\n",
       "25%    2016.0       1526.500000    26.791667\n",
       "50%    2016.0       1975.000000    34.766667\n",
       "75%    2016.0       2643.500000    49.750000\n",
       "max    2016.0       3571.000000    72.050000"
      ]
     },
     "execution_count": 40,
     "metadata": {},
     "output_type": "execute_result"
    }
   ],
   "source": [
    "df2.describe(include=[np.number])"
   ]
  },
  {
   "cell_type": "code",
   "execution_count": 41,
   "metadata": {},
   "outputs": [
    {
     "data": {
      "text/plain": [
       "Text(0, 0.5, 'Run time')"
      ]
     },
     "execution_count": 41,
     "metadata": {},
     "output_type": "execute_result"
    },
    {
     "data": {
      "image/png": "[encoded data removed]",
      "text/plain": [
       "<Figure size 432x288 with 1 Axes>"
      ]
     },
     "metadata": {
      "needs_background": "light"
     },
     "output_type": "display_data"
    }
   ],
   "source": [
    "df2.boxplot(column='Runner_mins', by = 'Gender')\n",
    "plt.ylabel('Run time')"
   ]
  },
  {
   "cell_type": "code",
   "execution_count": 42,
   "metadata": {},
   "outputs": [
    {
     "data": {
      "image/png": "[encoded data removed]",
      "text/plain": [
       "<Figure size 432x288 with 1 Axes>"
      ]
     },
     "metadata": {
      "needs_background": "light"
     },
     "output_type": "display_data"
    },
    {
     "data": {
      "text/plain": [
       "<matplotlib.legend.Legend at 0x2b544426b70>"
      ]
     },
     "execution_count": 42,
     "metadata": {},
     "output_type": "execute_result"
    },
    {
     "data": {
      "image/png": "[encoded data removed]",
      "text/plain": [
       "<Figure size 360x360 with 1 Axes>"
      ]
     },
     "metadata": {
      "needs_background": "light"
     },
     "output_type": "display_data"
    }
   ],
   "source": [
    "import seaborn as sns, numpy as np\n",
    "df2['Age_i'] = round(pd.to_numeric(df2['Age'], errors='coerce'))\n",
    "df2.dropna(how ='any', inplace = True)\n",
    "df = plt.scatter(df2['Runner_mins'], df2['Age_i'])\n",
    "df = plt.ylabel('Run time')\n",
    "df= plt.xlabel('Age')\n",
    "df = plt.show()\n",
    "\n",
    "sns.lmplot( x='Age_i', y='Runner_mins', data=df2, fit_reg=True, hue='Gender', legend=False)\n",
    "plt.legend(loc='lower right')"
   ]
  },
  {
   "cell_type": "code",
   "execution_count": 43,
   "metadata": {},
   "outputs": [
    {
     "data": {
      "image/png": "[encoded data removed]",
      "text/plain": [
       "<Figure size 432x288 with 1 Axes>"
      ]
     },
     "metadata": {
      "needs_background": "light"
     },
     "output_type": "display_data"
    }
   ],
   "source": [
    "import seaborn as sns, numpy as np\n",
    "x = df2['Runner_mins']\n",
    "ax = sns.distplot(x, hist=True, kde=True, rug=False, color='m', bins=25, hist_kws={'edgecolor':'black'})\n",
    "plt.show()"
   ]
  },
  {
   "cell_type": "code",
   "execution_count": 44,
   "metadata": {},
   "outputs": [
    {
     "data": {
      "text/plain": [
       "<matplotlib.legend.Legend at 0x2b534025a58>"
      ]
     },
     "execution_count": 44,
     "metadata": {},
     "output_type": "execute_result"
    },
    {
     "data": {
      "image/png": "[encoded data removed]",
      "text/plain": [
       "<Figure size 432x288 with 1 Axes>"
      ]
     },
     "metadata": {
      "needs_background": "light"
     },
     "output_type": "display_data"
    }
   ],
   "source": [
    "f_fuko = df2.loc[df2['Gender']=='F']['Runner_mins']\n",
    "m_fuko = df2.loc[df2['Gender']=='M']['Runner_mins']\n",
    "sns.distplot(f_fuko, hist=True, kde=True, rug=False, hist_kws={'edgecolor':'black'}, label='Female')\n",
    "sns.distplot(m_fuko, hist=True, kde=True, rug=False, hist_kws={'edgecolor':'black'}, label='Male')\n",
    "plt.legend()"
   ]
  },
  {
   "cell_type": "code",
   "execution_count": 45,
   "metadata": {},
   "outputs": [],
   "source": [
    "from pylab import rcParams\n",
    "rcParams['figure.figsize'] = 15, 5"
   ]
  },
  {
   "cell_type": "code",
   "execution_count": 46,
   "metadata": {},
   "outputs": [
    {
     "name": "stdout",
     "output_type": "stream",
     "text": [
      "        Year                                                       \\\n",
      "       count    mean  std     min     25%     50%     75%     max   \n",
      "Gender                                                              \n",
      "F       76.0  2016.0  0.0  2016.0  2016.0  2016.0  2016.0  2016.0   \n",
      "M       39.0  2016.0  0.0  2016.0  2016.0  2016.0  2016.0  2016.0   \n",
      "\n",
      "       ChipTime_minutes               ... Runner_mins            Age_i  \\\n",
      "                  count         mean  ...         75%        max count   \n",
      "Gender                                ...                                \n",
      "F                  76.0  2024.868421  ...   52.550000  72.050000  76.0   \n",
      "M                  39.0  1947.282051  ...   43.108333  59.516667  39.0   \n",
      "\n",
      "                                                              \n",
      "             mean        std   min    25%   50%    75%   max  \n",
      "Gender                                                        \n",
      "F       37.131579  13.342006  10.0  27.75  38.0  47.25  64.0  \n",
      "M       38.538462  14.881720  13.0  26.00  39.0  50.00  65.0  \n",
      "\n",
      "[2 rows x 32 columns]\n"
     ]
    }
   ],
   "source": [
    "g_stats = df2.groupby(\"Gender\", as_index=True).describe()\n",
    "print(g_stats)"
   ]
  },
  {
   "cell_type": "code",
   "execution_count": 47,
   "metadata": {},
   "outputs": [
    {
     "data": {
      "text/plain": [
       "Text(0, 0.5, 'Run time')"
      ]
     },
     "execution_count": 47,
     "metadata": {},
     "output_type": "execute_result"
    },
    {
     "data": {
      "image/png": "[encoded data removed]",
      "text/plain": [
       "<Figure size 1080x360 with 1 Axes>"
      ]
     },
     "metadata": {
      "needs_background": "light"
     },
     "output_type": "display_data"
    }
   ],
   "source": [
    "df2.boxplot(column='Runner_mins', by = 'State')\n",
    "plt.ylabel('Run time')"
   ]
  },
  {
   "cell_type": "code",
   "execution_count": 48,
   "metadata": {},
   "outputs": [
    {
     "data": {
      "text/plain": [
       "Text(0, 0.5, 'Run time')"
      ]
     },
     "execution_count": 48,
     "metadata": {},
     "output_type": "execute_result"
    },
    {
     "data": {
      "image/png": "[encoded data removed]",
      "text/plain": [
       "<Figure size 1080x360 with 1 Axes>"
      ]
     },
     "metadata": {
      "needs_background": "light"
     },
     "output_type": "display_data"
    }
   ],
   "source": [
    "df2.boxplot(column='Runner_mins', by = 'Year')\n",
    "plt.ylabel('Run time')"
   ]
  },
  {
   "cell_type": "code",
   "execution_count": 49,
   "metadata": {},
   "outputs": [],
   "source": [
    "df2.to_csv('final2016.csv')"
   ]
  },
  {
   "cell_type": "code",
   "execution_count": null,
   "metadata": {},
   "outputs": [],
   "source": []
  },
  {
   "cell_type": "code",
   "execution_count": null,
   "metadata": {},
   "outputs": [],
   "source": []
  },
  {
   "cell_type": "code",
   "execution_count": null,
   "metadata": {},
   "outputs": [],
   "source": []
  }
 ],
 "metadata": {
  "kernelspec": {
   "display_name": "Python 3",
   "language": "python",
   "name": "python3"
  },
  "language_info": {
   "codemirror_mode": {
    "name": "ipython",
    "version": 3
   },
   "file_extension": ".py",
   "mimetype": "text/x-python",
   "name": "python",
   "nbconvert_exporter": "python",
   "pygments_lexer": "ipython3",
   "version": "3.7.1"
  }
 },
 "nbformat": 4,
 "nbformat_minor": 2
}
